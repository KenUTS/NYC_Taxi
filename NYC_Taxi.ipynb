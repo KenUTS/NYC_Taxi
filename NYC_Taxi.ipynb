{
 "cells": [
  {
   "cell_type": "markdown",
   "metadata": {
    "application/vnd.databricks.v1+cell": {
     "cellMetadata": {
      "byteLimit": 2048000,
      "rowLimit": 10000
     },
     "inputWidgets": {},
     "nuid": "08d91549-6a74-4868-a184-9f05ae60c475",
     "showTitle": false,
     "title": ""
    }
   },
   "source": [
    "# Optimization of NYC Taxi Driver Earnings Using Big Data Analytics"
   ]
  },
  {
   "cell_type": "markdown",
   "metadata": {
    "application/vnd.databricks.v1+cell": {
     "cellMetadata": {
      "byteLimit": 2048000,
      "rowLimit": 10000
     },
     "inputWidgets": {},
     "nuid": "abdf5fc1-4a85-4799-8a68-175dd96ad4c8",
     "showTitle": false,
     "title": ""
    }
   },
   "source": [
    "## Part 1: Data Ingestion and Preparation"
   ]
  },
  {
   "cell_type": "markdown",
   "metadata": {
    "application/vnd.databricks.v1+cell": {
     "cellMetadata": {
      "byteLimit": 2048000,
      "rowLimit": 10000
     },
     "inputWidgets": {},
     "nuid": "767fbeea-c8e9-4ce0-8852-e07cc518d325",
     "showTitle": false,
     "title": ""
    }
   },
   "source": [
    "### Loading files"
   ]
  },
  {
   "cell_type": "code",
   "execution_count": null,
   "metadata": {},
   "outputs": [],
   "source": [
    "#Loading libraries\n",
    "from pyspark.sql.functions import input_file_name,regexp_extract\n",
    "import pyspark.sql.functions as F\n",
    "from pyspark.sql.types import IntegerType"
   ]
  },
  {
   "cell_type": "code",
   "execution_count": null,
   "metadata": {
    "application/vnd.databricks.v1+cell": {
     "cellMetadata": {
      "byteLimit": 2048000,
      "rowLimit": 10000
     },
     "inputWidgets": {},
     "nuid": "c656bfcc-ab82-4e69-a8bb-d14c80b03686",
     "showTitle": false,
     "title": ""
    }
   },
   "outputs": [
    {
     "name": "stdout",
     "output_type": "stream",
     "text": [
      "Out[1]: [FileInfo(path='dbfs:/FileStore/yellow/yellow_taxi_2015.parquet', name='yellow_taxi_2015.parquet', size=2896588873, modificationTime=1695883950000),\n",
      " FileInfo(path='dbfs:/FileStore/yellow/yellow_taxi_2016.parquet', name='yellow_taxi_2016.parquet', size=2616839324, modificationTime=1695884103000),\n",
      " FileInfo(path='dbfs:/FileStore/yellow/yellow_taxi_2017.parquet', name='yellow_taxi_2017.parquet', size=2072273391, modificationTime=1695884235000),\n",
      " FileInfo(path='dbfs:/FileStore/yellow/yellow_taxi_2018.parquet', name='yellow_taxi_2018.parquet', size=2098068908, modificationTime=1695884365000),\n",
      " FileInfo(path='dbfs:/FileStore/yellow/yellow_taxi_2019.parquet', name='yellow_taxi_2019.parquet', size=1788371641, modificationTime=1695884481000),\n",
      " FileInfo(path='dbfs:/FileStore/yellow/yellow_taxi_2020.parquet', name='yellow_taxi_2020.parquet', size=533759081, modificationTime=1695884530000),\n",
      " FileInfo(path='dbfs:/FileStore/yellow/yellow_taxi_2021.parquet', name='yellow_taxi_2021.parquet', size=678942509, modificationTime=1695884567000),\n",
      " FileInfo(path='dbfs:/FileStore/yellow/yellow_taxi_2022.parquet', name='yellow_taxi_2022.parquet', size=875304042, modificationTime=1695884617000)]"
     ]
    }
   ],
   "source": [
    "#Load all files in yellow folder.\n",
    "dbutils.fs.ls(\"/FileStore/yellow/\")"
   ]
  },
  {
   "cell_type": "code",
   "execution_count": null,
   "metadata": {
    "application/vnd.databricks.v1+cell": {
     "cellMetadata": {
      "byteLimit": 2048000,
      "rowLimit": 10000
     },
     "inputWidgets": {},
     "nuid": "d66fd04e-e78d-449d-95a6-6f55a040795a",
     "showTitle": false,
     "title": ""
    }
   },
   "outputs": [
    {
     "name": "stdout",
     "output_type": "stream",
     "text": [
      "Out[2]: [FileInfo(path='dbfs:/FileStore/green/green_taxi_2015.parquet', name='green_taxi_2015.parquet', size=404556105, modificationTime=1695883693000),\n",
      " FileInfo(path='dbfs:/FileStore/green/green_taxi_2016.parquet', name='green_taxi_2016.parquet', size=346731598, modificationTime=1695883717000),\n",
      " FileInfo(path='dbfs:/FileStore/green/green_taxi_2017.parquet', name='green_taxi_2017.parquet', size=251504885, modificationTime=1695883735000),\n",
      " FileInfo(path='dbfs:/FileStore/green/green_taxi_2018.parquet', name='green_taxi_2018.parquet', size=193874396, modificationTime=1695883748000),\n",
      " FileInfo(path='dbfs:/FileStore/green/green_taxi_2019.parquet', name='green_taxi_2019.parquet', size=142163406, modificationTime=1695883759000),\n",
      " FileInfo(path='dbfs:/FileStore/green/green_taxi_2020.parquet', name='green_taxi_2020.parquet', size=37076741, modificationTime=1695883766000),\n",
      " FileInfo(path='dbfs:/FileStore/green/green_taxi_2021.parquet', name='green_taxi_2021.parquet', size=23479865, modificationTime=1695883771000),\n",
      " FileInfo(path='dbfs:/FileStore/green/green_taxi_2022.parquet', name='green_taxi_2022.parquet', size=20085692, modificationTime=1695883776000)]"
     ]
    }
   ],
   "source": [
    "#Load all files in green folder.\n",
    "dbutils.fs.ls(\"/FileStore/green/\")"
   ]
  },
  {
   "cell_type": "markdown",
   "metadata": {
    "application/vnd.databricks.v1+cell": {
     "cellMetadata": {
      "byteLimit": 2048000,
      "rowLimit": 10000
     },
     "inputWidgets": {},
     "nuid": "c5b08be1-3462-4288-a051-296b1008fcbc",
     "showTitle": false,
     "title": ""
    }
   },
   "source": [
    "### Reading files and save them into database df_green and df_yellow"
   ]
  },
  {
   "cell_type": "code",
   "execution_count": null,
   "metadata": {
    "application/vnd.databricks.v1+cell": {
     "cellMetadata": {
      "byteLimit": 2048000,
      "rowLimit": 10000
     },
     "inputWidgets": {},
     "nuid": "cea751ef-89b3-488d-9d9d-5948489d8853",
     "showTitle": false,
     "title": ""
    }
   },
   "outputs": [],
   "source": [
    "df_yellow = spark.read.option(\"header\", True).parquet(\"/FileStore/yellow/\").withColumn(\"fileyear\", regexp_extract(input_file_name(), r'(\\d{4})\\.parquet', 1))\n"
   ]
  },
  {
   "cell_type": "code",
   "execution_count": null,
   "metadata": {
    "application/vnd.databricks.v1+cell": {
     "cellMetadata": {
      "byteLimit": 2048000,
      "rowLimit": 10000
     },
     "inputWidgets": {},
     "nuid": "37254686-2440-4a14-8043-c24be6831c74",
     "showTitle": false,
     "title": ""
    }
   },
   "outputs": [],
   "source": [
    "df_green = spark.read.option(\"header\", True).parquet(\"/FileStore/green/\").withColumn(\"fileyear\", regexp_extract(input_file_name(), r'(\\d{4})\\.parquet', 1))"
   ]
  },
  {
   "cell_type": "markdown",
   "metadata": {
    "application/vnd.databricks.v1+cell": {
     "cellMetadata": {
      "byteLimit": 2048000,
      "rowLimit": 10000
     },
     "inputWidgets": {},
     "nuid": "bb092103-5044-49f0-af20-d9eff3e99cc6",
     "showTitle": false,
     "title": ""
    }
   },
   "source": [
    "### Count the total numbers of rows for each taxi colour "
   ]
  },
  {
   "cell_type": "code",
   "execution_count": null,
   "metadata": {
    "application/vnd.databricks.v1+cell": {
     "cellMetadata": {
      "byteLimit": 2048000,
      "rowLimit": 10000
     },
     "inputWidgets": {},
     "nuid": "c69ec249-8a75-4f2a-8b62-5fe5d87c8213",
     "showTitle": false,
     "title": ""
    }
   },
   "outputs": [],
   "source": [
    "# Count numbers of rows for yellow taxi\n",
    "df_yellow.count()"
   ]
  },
  {
   "cell_type": "code",
   "execution_count": null,
   "metadata": {
    "application/vnd.databricks.v1+cell": {
     "cellMetadata": {
      "byteLimit": 2048000,
      "rowLimit": 10000
     },
     "inputWidgets": {},
     "nuid": "eab4b419-c32f-4903-b276-ee1cd459151d",
     "showTitle": false,
     "title": ""
    }
   },
   "outputs": [],
   "source": [
    "# Count numbers of rows for green taxi\n",
    "df_green.count()"
   ]
  },
  {
   "cell_type": "markdown",
   "metadata": {
    "application/vnd.databricks.v1+cell": {
     "cellMetadata": {
      "byteLimit": 2048000,
      "rowLimit": 10000
     },
     "inputWidgets": {},
     "nuid": "d5e17764-f39f-49ef-ac21-05a4172a460c",
     "showTitle": false,
     "title": ""
    }
   },
   "source": [
    "### Convert the “Green” 2015 parquet into a csv file and compare files size."
   ]
  },
  {
   "cell_type": "code",
   "execution_count": null,
   "metadata": {
    "application/vnd.databricks.v1+cell": {
     "cellMetadata": {
      "byteLimit": 2048000,
      "rowLimit": 10000
     },
     "inputWidgets": {},
     "nuid": "a28a97bf-5037-4f38-89d4-17b8d9604441",
     "showTitle": false,
     "title": ""
    }
   },
   "outputs": [],
   "source": [
    "green_2015 = spark.read.parquet(\"/FileStore/green/green_taxi_2015.parquet\")\n",
    "green_2015.write.option(\"header\",\"true\").csv(\"/FileStore/df_green_2015.csv\")"
   ]
  },
  {
   "cell_type": "code",
   "execution_count": null,
   "metadata": {
    "application/vnd.databricks.v1+cell": {
     "cellMetadata": {
      "byteLimit": 2048000,
      "rowLimit": 10000
     },
     "inputWidgets": {},
     "nuid": "cef327b4-b36c-447f-a3c9-b612d3494262",
     "showTitle": false,
     "title": ""
    }
   },
   "outputs": [
    {
     "name": "stdout",
     "output_type": "stream",
     "text": [
      "Out[8]: [FileInfo(path='dbfs:/FileStore/df_green_2015.csv/_SUCCESS', name='_SUCCESS', size=0, modificationTime=1695900225000),\n",
      " FileInfo(path='dbfs:/FileStore/df_green_2015.csv/_committed_7694727312407993374', name='_committed_7694727312407993374', size=288, modificationTime=1695900225000),\n",
      " FileInfo(path='dbfs:/FileStore/df_green_2015.csv/_started_7694727312407993374', name='_started_7694727312407993374', size=0, modificationTime=1695899973000),\n",
      " FileInfo(path='dbfs:/FileStore/df_green_2015.csv/part-00000-tid-7694727312407993374-731f9a44-4b83-43f5-97bd-766d09d39918-41-1-c000.csv', name='part-00000-tid-7694727312407993374-731f9a44-4b83-43f5-97bd-766d09d39918-41-1-c000.csv', size=718297967, modificationTime=1695900196000),\n",
      " FileInfo(path='dbfs:/FileStore/df_green_2015.csv/part-00001-tid-7694727312407993374-731f9a44-4b83-43f5-97bd-766d09d39918-42-1-c000.csv', name='part-00001-tid-7694727312407993374-731f9a44-4b83-43f5-97bd-766d09d39918-42-1-c000.csv', size=716001938, modificationTime=1695900204000),\n",
      " FileInfo(path='dbfs:/FileStore/df_green_2015.csv/part-00002-tid-7694727312407993374-731f9a44-4b83-43f5-97bd-766d09d39918-43-1-c000.csv', name='part-00002-tid-7694727312407993374-731f9a44-4b83-43f5-97bd-766d09d39918-43-1-c000.csv', size=744817515, modificationTime=1695900202000)]"
     ]
    }
   ],
   "source": [
    "# Check the csv file size\n",
    "dbutils.fs.ls(\"/FileStore/df_green_2015.csv\")"
   ]
  },
  {
   "cell_type": "markdown",
   "metadata": {
    "application/vnd.databricks.v1+cell": {
     "cellMetadata": {
      "byteLimit": 2048000,
      "rowLimit": 10000
     },
     "inputWidgets": {},
     "nuid": "209bf44b-6566-4531-be4c-20efa8db9d56",
     "showTitle": false,
     "title": ""
    }
   },
   "source": [
    "File size for csv files are sum of 718297967, 716001938 and 744817515"
   ]
  },
  {
   "cell_type": "code",
   "execution_count": null,
   "metadata": {
    "application/vnd.databricks.v1+cell": {
     "cellMetadata": {
      "byteLimit": 2048000,
      "rowLimit": 10000
     },
     "inputWidgets": {},
     "nuid": "1b24bd5f-8471-4a5a-8830-1cdddf865e66",
     "showTitle": false,
     "title": ""
    }
   },
   "outputs": [
    {
     "name": "stdout",
     "output_type": "stream",
     "text": [
      "Out[9]: [FileInfo(path='dbfs:/FileStore/green/green_taxi_2015.parquet', name='green_taxi_2015.parquet', size=404556105, modificationTime=1695883693000)]"
     ]
    }
   ],
   "source": [
    "# Check the parquet file size\n",
    "dbutils.fs.ls(\"/FileStore/green/green_taxi_2015.parquet\")"
   ]
  },
  {
   "cell_type": "markdown",
   "metadata": {
    "application/vnd.databricks.v1+cell": {
     "cellMetadata": {
      "byteLimit": 2048000,
      "rowLimit": 10000
     },
     "inputWidgets": {},
     "nuid": "66f3971b-1b8c-4b59-8a2a-4924f6f3acba",
     "showTitle": false,
     "title": ""
    }
   },
   "source": [
    "File size for parquet files is 404556105 which is much smaller than csv file format"
   ]
  },
  {
   "cell_type": "markdown",
   "metadata": {
    "application/vnd.databricks.v1+cell": {
     "cellMetadata": {
      "byteLimit": 2048000,
      "rowLimit": 10000
     },
     "inputWidgets": {},
     "nuid": "3e3c1fd4-6d27-4f63-99d3-1695cfb60888",
     "showTitle": false,
     "title": ""
    }
   },
   "source": [
    "### Data cleaning to remove unrealistic trips"
   ]
  },
  {
   "cell_type": "code",
   "execution_count": null,
   "metadata": {
    "application/vnd.databricks.v1+cell": {
     "cellMetadata": {
      "byteLimit": 2048000,
      "rowLimit": 10000
     },
     "inputWidgets": {},
     "nuid": "a732f931-31d2-421c-8560-305c198c5826",
     "showTitle": false,
     "title": ""
    }
   },
   "outputs": [],
   "source": [
    "df_green_cleaned=df_green\n",
    "df_yellow_cleaned=df_yellow"
   ]
  },
  {
   "cell_type": "markdown",
   "metadata": {
    "application/vnd.databricks.v1+cell": {
     "cellMetadata": {
      "byteLimit": 2048000,
      "rowLimit": 10000
     },
     "inputWidgets": {},
     "nuid": "bab4ef17-bab3-4955-907c-83e3e2fa4a54",
     "showTitle": false,
     "title": ""
    }
   },
   "source": [
    "#### Filter 1: Remove trips finishing before the starting time"
   ]
  },
  {
   "cell_type": "code",
   "execution_count": null,
   "metadata": {
    "application/vnd.databricks.v1+cell": {
     "cellMetadata": {
      "byteLimit": 2048000,
      "rowLimit": 10000
     },
     "inputWidgets": {},
     "nuid": "13c7a4cf-b9bc-4b7c-9f9b-01079f1388ee",
     "showTitle": false,
     "title": ""
    }
   },
   "outputs": [],
   "source": [
    "# Using subtract to remove a dataframe inside a dataframe.\n",
    "filter_1_green= (F.col(\"lpep_dropoff_datetime\")>=F.col(\"lpep_pickup_datetime\"))"
   ]
  },
  {
   "cell_type": "code",
   "execution_count": null,
   "metadata": {
    "application/vnd.databricks.v1+cell": {
     "cellMetadata": {
      "byteLimit": 2048000,
      "rowLimit": 10000
     },
     "inputWidgets": {},
     "nuid": "08605f75-c43f-42e2-960f-975f2fd9f2c5",
     "showTitle": false,
     "title": ""
    }
   },
   "outputs": [],
   "source": [
    "filter_1_yellow= (F.col(\"tpep_dropoff_datetime\")>=F.col(\"tpep_pickup_datetime\"))"
   ]
  },
  {
   "cell_type": "markdown",
   "metadata": {
    "application/vnd.databricks.v1+cell": {
     "cellMetadata": {
      "byteLimit": 2048000,
      "rowLimit": 10000
     },
     "inputWidgets": {},
     "nuid": "edaa62ad-6ace-4ba2-a01c-62e4d3ae06b5",
     "showTitle": false,
     "title": ""
    }
   },
   "source": [
    "#### Filter 2: Remove trips where the pickup/dropoff datetime is outside of the range"
   ]
  },
  {
   "cell_type": "code",
   "execution_count": null,
   "metadata": {
    "application/vnd.databricks.v1+cell": {
     "cellMetadata": {
      "byteLimit": 2048000,
      "rowLimit": 10000
     },
     "inputWidgets": {},
     "nuid": "77daddc5-bd34-4aeb-90f3-35989acbc1ef",
     "showTitle": false,
     "title": ""
    }
   },
   "outputs": [],
   "source": [
    "#Pick up date out side of range\n",
    "filter_2_green= (F.year(F.col(\"lpep_pickup_datetime\"))==F.col(\"fileyear\").cast(\"int\"))\n",
    "filter_2_2_green= (F.year(F.col(\"lpep_dropoff_datetime\"))==F.col(\"fileyear\").cast(\"int\"))"
   ]
  },
  {
   "cell_type": "code",
   "execution_count": null,
   "metadata": {
    "application/vnd.databricks.v1+cell": {
     "cellMetadata": {
      "byteLimit": 2048000,
      "rowLimit": 10000
     },
     "inputWidgets": {},
     "nuid": "7c4a1bc9-78b8-4dbe-9546-52edadfa64e5",
     "showTitle": false,
     "title": ""
    }
   },
   "outputs": [],
   "source": [
    "filter_2_yellow= (F.year(F.col(\"tpep_pickup_datetime\"))==F.col(\"fileyear\").cast(\"int\"))\n",
    "filter_2_2_yellow= (F.year(F.col(\"tpep_dropoff_datetime\"))==F.col(\"fileyear\").cast(\"int\"))"
   ]
  },
  {
   "cell_type": "markdown",
   "metadata": {
    "application/vnd.databricks.v1+cell": {
     "cellMetadata": {
      "byteLimit": 2048000,
      "rowLimit": 10000
     },
     "inputWidgets": {},
     "nuid": "46fcf47f-fe39-49c0-a6dd-0d48b1d0b744",
     "showTitle": false,
     "title": ""
    }
   },
   "source": [
    "#### Filter 3: Remove trips with negative speed"
   ]
  },
  {
   "cell_type": "code",
   "execution_count": null,
   "metadata": {
    "application/vnd.databricks.v1+cell": {
     "cellMetadata": {
      "byteLimit": 2048000,
      "rowLimit": 10000
     },
     "inputWidgets": {},
     "nuid": "1f8fcf6d-ec75-448e-9f65-3a4d965bbe78",
     "showTitle": false,
     "title": ""
    }
   },
   "outputs": [],
   "source": [
    "# distant in miles is converted to km and the time is convert to hour. The measurement for speeding is kms\n",
    "df_green_cleaned=df_green_cleaned.withColumn(\"distance_km\",F.expr(\"trip_distance*1.609344\"))\n",
    "# Remove mile distance\n",
    "df_green_cleaned=df_green_cleaned.drop(\"trip_distance\")\n",
    "df_green_cleaned=df_green_cleaned.withColumn(\"speed\",F.expr(\"distance_km/((unix_timestamp(lpep_dropoff_datetime)-unix_timestamp(lpep_pickup_datetime))/3600)\"))"
   ]
  },
  {
   "cell_type": "code",
   "execution_count": null,
   "metadata": {
    "application/vnd.databricks.v1+cell": {
     "cellMetadata": {
      "byteLimit": 2048000,
      "rowLimit": 10000
     },
     "inputWidgets": {},
     "nuid": "3f46f5e5-08a1-48db-b01a-353e4d4d48b7",
     "showTitle": false,
     "title": ""
    }
   },
   "outputs": [],
   "source": [
    "# distant in miles is converted to km and the time is convert to hour. The measurement for speeding is kms\n",
    "df_yellow_cleaned=df_yellow_cleaned.withColumn(\"distance_km\",F.expr(\"trip_distance*1.609344\"))\n",
    "# Remove mile distance\n",
    "df_yellow_cleaned=df_yellow_cleaned.drop(\"trip_distance\")\n",
    "df_yellow_cleaned=df_yellow_cleaned.withColumn(\"speed\",F.expr(\"distance_km/((unix_timestamp(tpep_dropoff_datetime)-unix_timestamp(tpep_pickup_datetime))/3600)\"))"
   ]
  },
  {
   "cell_type": "code",
   "execution_count": null,
   "metadata": {
    "application/vnd.databricks.v1+cell": {
     "cellMetadata": {
      "byteLimit": 2048000,
      "rowLimit": 10000
     },
     "inputWidgets": {},
     "nuid": "9ae14af0-c037-4967-840a-17d6af802202",
     "showTitle": false,
     "title": ""
    }
   },
   "outputs": [],
   "source": [
    "# Remove trips that speed smaller than 0\n",
    "filter_3=(F.col(\"speed\")>=0)"
   ]
  },
  {
   "cell_type": "markdown",
   "metadata": {
    "application/vnd.databricks.v1+cell": {
     "cellMetadata": {
      "byteLimit": 2048000,
      "rowLimit": 10000
     },
     "inputWidgets": {},
     "nuid": "b6081ae7-00a0-422f-b4ba-92fcc2233dd7",
     "showTitle": false,
     "title": ""
    }
   },
   "source": [
    "#### Filter 4: Remove trips with very high speed with greater than 88.5 km/h"
   ]
  },
  {
   "cell_type": "code",
   "execution_count": null,
   "metadata": {
    "application/vnd.databricks.v1+cell": {
     "cellMetadata": {
      "byteLimit": 2048000,
      "rowLimit": 10000
     },
     "inputWidgets": {},
     "nuid": "7208072f-9f7d-436e-90e6-c967a5406417",
     "showTitle": false,
     "title": ""
    }
   },
   "outputs": [],
   "source": [
    "filter_4= (F.col(\"speed\")<=88.5)"
   ]
  },
  {
   "cell_type": "markdown",
   "metadata": {
    "application/vnd.databricks.v1+cell": {
     "cellMetadata": {
      "byteLimit": 2048000,
      "rowLimit": 10000
     },
     "inputWidgets": {},
     "nuid": "424ea23b-968e-46ee-8b84-0f229eee6787",
     "showTitle": false,
     "title": ""
    }
   },
   "source": [
    "#### Filter 5: Remove trips that are travelling too short or too long (duration wise)\n",
    "\n",
    "By using Google map to find longest distant from brooklyn to bronx, it can be see that it only took 1 and 30 minute. So I claimed that the longest travel is no longer than 3 hours"
   ]
  },
  {
   "cell_type": "code",
   "execution_count": null,
   "metadata": {
    "application/vnd.databricks.v1+cell": {
     "cellMetadata": {
      "byteLimit": 2048000,
      "rowLimit": 10000
     },
     "inputWidgets": {},
     "nuid": "81ee0916-fdf2-4296-937b-29135186c76a",
     "showTitle": false,
     "title": ""
    }
   },
   "outputs": [],
   "source": [
    "filter_5_green=(F.expr(\"(unix_timestamp(lpep_dropoff_datetime)-unix_timestamp(lpep_pickup_datetime))/3600\")<=3)"
   ]
  },
  {
   "cell_type": "code",
   "execution_count": null,
   "metadata": {
    "application/vnd.databricks.v1+cell": {
     "cellMetadata": {
      "byteLimit": 2048000,
      "rowLimit": 10000
     },
     "inputWidgets": {},
     "nuid": "1a1e4f91-2c69-4a93-a63c-620b39076085",
     "showTitle": false,
     "title": ""
    }
   },
   "outputs": [],
   "source": [
    "filter_5_yellow=(F.expr(\"(unix_timestamp(tpep_dropoff_datetime)-unix_timestamp(tpep_pickup_datetime))/3600\")<=3)"
   ]
  },
  {
   "cell_type": "code",
   "execution_count": null,
   "metadata": {
    "application/vnd.databricks.v1+cell": {
     "cellMetadata": {
      "byteLimit": 2048000,
      "rowLimit": 10000
     },
     "inputWidgets": {},
     "nuid": "cc11a7f0-6b0e-408c-9b8b-c9a16654d923",
     "showTitle": false,
     "title": ""
    }
   },
   "outputs": [],
   "source": [
    "#Remove trips that lower than 1 minutes.\n",
    "filter_5_2_green= (F.expr(\"unix_timestamp(lpep_dropoff_datetime)-unix_timestamp(lpep_pickup_datetime)\")>60)"
   ]
  },
  {
   "cell_type": "code",
   "execution_count": null,
   "metadata": {
    "application/vnd.databricks.v1+cell": {
     "cellMetadata": {
      "byteLimit": 2048000,
      "rowLimit": 10000
     },
     "inputWidgets": {},
     "nuid": "d426eca7-0871-45c5-8e33-f69fa22a748a",
     "showTitle": false,
     "title": ""
    }
   },
   "outputs": [],
   "source": [
    "#Remove trips that lower than 1 minutes.\n",
    "filter_5_2_yellow= (F.expr(\"unix_timestamp(tpep_dropoff_datetime)-unix_timestamp(tpep_pickup_datetime)\")>60)"
   ]
  },
  {
   "cell_type": "markdown",
   "metadata": {
    "application/vnd.databricks.v1+cell": {
     "cellMetadata": {
      "byteLimit": 2048000,
      "rowLimit": 10000
     },
     "inputWidgets": {},
     "nuid": "fbcd1977-4cda-4601-aae7-161740c23a88",
     "showTitle": false,
     "title": ""
    }
   },
   "source": [
    "#### Filter 6: Remove trips that are travelling too short or too long (distance wise)\n",
    "\n",
    "By using Google map to find longest distant from brooklyn to bronx, it can be see that the distance is 50 km. So I claimed that the longest travel is no longer than 100km"
   ]
  },
  {
   "cell_type": "code",
   "execution_count": null,
   "metadata": {
    "application/vnd.databricks.v1+cell": {
     "cellMetadata": {
      "byteLimit": 2048000,
      "rowLimit": 10000
     },
     "inputWidgets": {},
     "nuid": "60db4ac1-f6ac-4cb1-a576-485336e042c5",
     "showTitle": false,
     "title": ""
    }
   },
   "outputs": [],
   "source": [
    "filter_6= (F.col(\"distance_km\")<=100)"
   ]
  },
  {
   "cell_type": "code",
   "execution_count": null,
   "metadata": {
    "application/vnd.databricks.v1+cell": {
     "cellMetadata": {
      "byteLimit": 2048000,
      "rowLimit": 10000
     },
     "inputWidgets": {},
     "nuid": "3b2e6a4e-1aa2-446d-994b-c5d0e927e3d8",
     "showTitle": false,
     "title": ""
    }
   },
   "outputs": [],
   "source": [
    "# For too short distance, it should not shorter than 0.5km\n",
    "filter_6_2= (F.col(\"distance_km\")>0.5)"
   ]
  },
  {
   "cell_type": "markdown",
   "metadata": {
    "application/vnd.databricks.v1+cell": {
     "cellMetadata": {
      "byteLimit": 2048000,
      "rowLimit": 10000
     },
     "inputWidgets": {},
     "nuid": "b3237c38-85f0-4a9a-9e46-3c8b98bb033e",
     "showTitle": false,
     "title": ""
    }
   },
   "source": [
    "#### Filter 7: Remove trips with very low speed with lower than 5 km/h"
   ]
  },
  {
   "cell_type": "code",
   "execution_count": null,
   "metadata": {
    "application/vnd.databricks.v1+cell": {
     "cellMetadata": {
      "byteLimit": 2048000,
      "rowLimit": 10000
     },
     "inputWidgets": {},
     "nuid": "75ffdcb4-b1bc-47fe-9721-a2e3db68119b",
     "showTitle": false,
     "title": ""
    }
   },
   "outputs": [],
   "source": [
    "filter_7= (F.col(\"speed\")>=5)"
   ]
  },
  {
   "cell_type": "markdown",
   "metadata": {
    "application/vnd.databricks.v1+cell": {
     "cellMetadata": {
      "byteLimit": 2048000,
      "rowLimit": 10000
     },
     "inputWidgets": {},
     "nuid": "8e486f48-1f61-49bf-be6c-33b60ba3cb2e",
     "showTitle": false,
     "title": ""
    }
   },
   "source": [
    "#### Filter 8: Remove trips that are total money charge is less than 0."
   ]
  },
  {
   "cell_type": "code",
   "execution_count": null,
   "metadata": {
    "application/vnd.databricks.v1+cell": {
     "cellMetadata": {
      "byteLimit": 2048000,
      "rowLimit": 10000
     },
     "inputWidgets": {},
     "nuid": "7a1b772f-9f3a-405e-887f-9f69fe30b249",
     "showTitle": false,
     "title": ""
    }
   },
   "outputs": [],
   "source": [
    "filter_8= (F.col(\"total_amount\")>0)"
   ]
  },
  {
   "cell_type": "markdown",
   "metadata": {
    "application/vnd.databricks.v1+cell": {
     "cellMetadata": {
      "byteLimit": 2048000,
      "rowLimit": 10000
     },
     "inputWidgets": {},
     "nuid": "3934233a-57fc-4b89-b392-ac93cc4f6bcc",
     "showTitle": false,
     "title": ""
    }
   },
   "source": [
    "#### Remove duplicated rows"
   ]
  },
  {
   "cell_type": "code",
   "execution_count": null,
   "metadata": {
    "application/vnd.databricks.v1+cell": {
     "cellMetadata": {
      "byteLimit": 2048000,
      "rowLimit": 10000
     },
     "inputWidgets": {},
     "nuid": "af9c094c-bdf1-4d7d-bf57-f834ea0ef56c",
     "showTitle": false,
     "title": ""
    }
   },
   "outputs": [],
   "source": [
    "#Remove duplicates records in green data\n",
    "df_green_cleaned=df_green_cleaned.dropDuplicates()"
   ]
  },
  {
   "cell_type": "code",
   "execution_count": null,
   "metadata": {
    "application/vnd.databricks.v1+cell": {
     "cellMetadata": {
      "byteLimit": 2048000,
      "rowLimit": 10000
     },
     "inputWidgets": {},
     "nuid": "1b66e016-c4f1-4983-a67e-d7528bcef2ba",
     "showTitle": false,
     "title": ""
    }
   },
   "outputs": [],
   "source": [
    "#Remove duplicates records in yellow data\n",
    "df_yellow_cleaned=df_yellow_cleaned.dropDuplicates()"
   ]
  },
  {
   "cell_type": "markdown",
   "metadata": {
    "application/vnd.databricks.v1+cell": {
     "cellMetadata": {
      "byteLimit": 2048000,
      "rowLimit": 10000
     },
     "inputWidgets": {},
     "nuid": "aae53157-44a4-47dc-bf24-f8bc4541afef",
     "showTitle": false,
     "title": ""
    }
   },
   "source": [
    "#### Apply all filters for two given datasets"
   ]
  },
  {
   "cell_type": "code",
   "execution_count": null,
   "metadata": {
    "application/vnd.databricks.v1+cell": {
     "cellMetadata": {
      "byteLimit": 2048000,
      "rowLimit": 10000
     },
     "inputWidgets": {},
     "nuid": "451879eb-3ab4-4d5e-a543-59b870764575",
     "showTitle": false,
     "title": ""
    }
   },
   "outputs": [],
   "source": [
    "#Apply all filter above to green data\n",
    "df_green_cleaned=df_green_cleaned.filter(filter_1_green).filter(filter_2_green).filter(filter_2_2_green).filter(filter_3).filter(filter_4).filter(filter_5_green).filter(filter_5_2_green).filter(filter_6).filter(filter_7).filter(filter_8)"
   ]
  },
  {
   "cell_type": "code",
   "execution_count": null,
   "metadata": {
    "application/vnd.databricks.v1+cell": {
     "cellMetadata": {
      "byteLimit": 2048000,
      "rowLimit": 10000
     },
     "inputWidgets": {},
     "nuid": "e804e507-ce76-4125-959d-7c73a648694c",
     "showTitle": false,
     "title": ""
    }
   },
   "outputs": [],
   "source": [
    "#Apply all filter above to yellow data\n",
    "df_yellow_cleaned=df_yellow_cleaned.filter(filter_1_yellow).filter(filter_2_yellow).filter(filter_2_2_yellow).filter(filter_3).filter(filter_4).filter(filter_5_yellow).filter(filter_5_2_yellow).filter(filter_6).filter(filter_7).filter(filter_8)"
   ]
  },
  {
   "cell_type": "markdown",
   "metadata": {
    "application/vnd.databricks.v1+cell": {
     "cellMetadata": {
      "byteLimit": 2048000,
      "rowLimit": 10000
     },
     "inputWidgets": {},
     "nuid": "51590097-f19f-4b75-b44e-38c0b194ad2f",
     "showTitle": false,
     "title": ""
    }
   },
   "source": [
    "### Rename and Reorder datasets and then combines them"
   ]
  },
  {
   "cell_type": "code",
   "execution_count": null,
   "metadata": {
    "application/vnd.databricks.v1+cell": {
     "cellMetadata": {
      "byteLimit": 2048000,
      "rowLimit": 10000
     },
     "inputWidgets": {},
     "nuid": "5cf8bb0b-05e5-40d3-81ef-d332ce4ed544",
     "showTitle": false,
     "title": ""
    }
   },
   "outputs": [],
   "source": [
    "#Rename pick up and drop off for green taxis\n",
    "df_green_cleaned=df_green_cleaned.withColumnRenamed(\"lpep_pickup_datetime\", \"pickup_datetime\")\n",
    "df_green_cleaned=df_green_cleaned.withColumnRenamed(\"lpep_dropoff_datetime\", \"dropoff_datetime\")"
   ]
  },
  {
   "cell_type": "code",
   "execution_count": null,
   "metadata": {
    "application/vnd.databricks.v1+cell": {
     "cellMetadata": {
      "byteLimit": 2048000,
      "rowLimit": 10000
     },
     "inputWidgets": {},
     "nuid": "9c40ab8c-a0ca-4f98-82f3-936adba4a1c0",
     "showTitle": false,
     "title": ""
    }
   },
   "outputs": [],
   "source": [
    "#Rename pick up and drop off for yellow taxis\n",
    "df_yellow_cleaned=df_yellow_cleaned.withColumnRenamed(\"tpep_pickup_datetime\", \"pickup_datetime\")\n",
    "df_yellow_cleaned=df_yellow_cleaned.withColumnRenamed(\"tpep_dropoff_datetime\", \"dropoff_datetime\")"
   ]
  },
  {
   "cell_type": "code",
   "execution_count": null,
   "metadata": {
    "application/vnd.databricks.v1+cell": {
     "cellMetadata": {
      "byteLimit": 2048000,
      "rowLimit": 10000
     },
     "inputWidgets": {},
     "nuid": "90e83190-b5da-4449-b262-a1ef7bd47e19",
     "showTitle": false,
     "title": ""
    }
   },
   "outputs": [],
   "source": [
    "# Add colour to green dataset and a null records for airport fee.\n",
    "df_green_cleaned=df_green_cleaned.withColumn(\"colour\", F.lit(\"green\"))\n",
    "df_green_cleaned=df_green_cleaned.withColumn(\"airport_fee\", F.lit(None).cast(\"int\"))"
   ]
  },
  {
   "cell_type": "code",
   "execution_count": null,
   "metadata": {
    "application/vnd.databricks.v1+cell": {
     "cellMetadata": {
      "byteLimit": 2048000,
      "rowLimit": 10000
     },
     "inputWidgets": {},
     "nuid": "dbf6b502-2bb9-434f-afba-a925a8dccac0",
     "showTitle": false,
     "title": ""
    }
   },
   "outputs": [],
   "source": [
    "# Add colour to yellow dataset and a null records for ehail fee and trip type.\n",
    "df_yellow_cleaned=df_yellow_cleaned.withColumn(\"colour\", F.lit(\"yellow\"))\n",
    "df_yellow_cleaned=df_yellow_cleaned.withColumn(\"ehail_fee\", F.lit(None).cast(\"int\"))\n",
    "df_yellow_cleaned=df_yellow_cleaned.withColumn(\"trip_type\", F.lit(None).cast(\"string\"))"
   ]
  },
  {
   "cell_type": "code",
   "execution_count": null,
   "metadata": {
    "application/vnd.databricks.v1+cell": {
     "cellMetadata": {
      "byteLimit": 2048000,
      "rowLimit": 10000
     },
     "inputWidgets": {},
     "nuid": "33c4ab3e-49d8-40ea-80b5-60aefa7c8071",
     "showTitle": false,
     "title": ""
    }
   },
   "outputs": [],
   "source": [
    "#Reorder green datasets columns\n",
    "df_green_cleaned = df_green_cleaned.select(*['VendorID',\n",
    " 'pickup_datetime',\n",
    " 'dropoff_datetime',\n",
    " 'store_and_fwd_flag',\n",
    " 'RatecodeID',\n",
    " 'PULocationID',\n",
    " 'DOLocationID',\n",
    " 'passenger_count',\n",
    " 'fare_amount',\n",
    " 'extra',\n",
    " 'mta_tax',\n",
    " 'tip_amount',\n",
    " 'tolls_amount',\n",
    " 'improvement_surcharge',\n",
    " 'total_amount',\n",
    " 'payment_type',\n",
    " 'congestion_surcharge',\n",
    " 'fileyear',\n",
    " 'distance_km',\n",
    " 'speed',\n",
    " 'colour',\n",
    " 'ehail_fee',\n",
    " 'trip_type',\n",
    " 'airport_fee'\n",
    " ])"
   ]
  },
  {
   "cell_type": "code",
   "execution_count": null,
   "metadata": {
    "application/vnd.databricks.v1+cell": {
     "cellMetadata": {
      "byteLimit": 2048000,
      "rowLimit": 10000
     },
     "inputWidgets": {},
     "nuid": "2f82bea5-7554-4e37-b1ee-2d40fe917466",
     "showTitle": false,
     "title": ""
    }
   },
   "outputs": [],
   "source": [
    "#Reorder yellow datasets columns\n",
    "df_yellow_cleaned = df_yellow_cleaned.select(*[ \n",
    " 'VendorID',\n",
    " 'pickup_datetime',\n",
    " 'dropoff_datetime',\n",
    " 'store_and_fwd_flag',\n",
    " 'RatecodeID',\n",
    " 'PULocationID',\n",
    " 'DOLocationID',\n",
    " 'passenger_count',\n",
    " 'fare_amount',\n",
    " 'extra',\n",
    " 'mta_tax',\n",
    " 'tip_amount',\n",
    " 'tolls_amount',\n",
    " 'improvement_surcharge',\n",
    " 'total_amount',\n",
    " 'payment_type',\n",
    " 'congestion_surcharge',\n",
    " 'fileyear',\n",
    " 'distance_km',\n",
    " 'speed',\n",
    " 'colour',\n",
    " 'ehail_fee',\n",
    " 'trip_type',\n",
    " 'airport_fee'\n",
    "])"
   ]
  },
  {
   "cell_type": "markdown",
   "metadata": {
    "application/vnd.databricks.v1+cell": {
     "cellMetadata": {
      "byteLimit": 2048000,
      "rowLimit": 10000
     },
     "inputWidgets": {},
     "nuid": "03e9c609-a9ab-47ac-8f04-99dbaff4d5d7",
     "showTitle": false,
     "title": ""
    }
   },
   "source": [
    "Export dataset for green taxis to a parquet file"
   ]
  },
  {
   "cell_type": "code",
   "execution_count": null,
   "metadata": {
    "application/vnd.databricks.v1+cell": {
     "cellMetadata": {
      "byteLimit": 2048000,
      "rowLimit": 10000
     },
     "inputWidgets": {},
     "nuid": "f75b8c52-deed-46ad-911d-8eb90bf04f43",
     "showTitle": false,
     "title": ""
    }
   },
   "outputs": [],
   "source": [
    "df_green_cleaned.write.parquet(\"/FileStore/df_green_cleaned.parquet\")"
   ]
  },
  {
   "cell_type": "markdown",
   "metadata": {
    "application/vnd.databricks.v1+cell": {
     "cellMetadata": {
      "byteLimit": 2048000,
      "rowLimit": 10000
     },
     "inputWidgets": {},
     "nuid": "973849a5-4990-4fe1-b6a2-fefdcf2d3358",
     "showTitle": false,
     "title": ""
    }
   },
   "source": [
    "Export dataset for yellow taxis to a parquet file"
   ]
  },
  {
   "cell_type": "code",
   "execution_count": null,
   "metadata": {
    "application/vnd.databricks.v1+cell": {
     "cellMetadata": {
      "byteLimit": 2048000,
      "rowLimit": 10000
     },
     "inputWidgets": {},
     "nuid": "5e5ed25e-e164-41d1-af36-d0c611562ee8",
     "showTitle": false,
     "title": ""
    }
   },
   "outputs": [],
   "source": [
    "df_yellow_cleaned.write.parquet(\"/FileStore/df_yellow_cleaned.parquet\")"
   ]
  },
  {
   "cell_type": "markdown",
   "metadata": {
    "application/vnd.databricks.v1+cell": {
     "cellMetadata": {},
     "inputWidgets": {},
     "nuid": "3e974f01-0ed2-45a7-a03a-73a225fcfdd4",
     "showTitle": false,
     "title": ""
    }
   },
   "source": [
    "Combine two dataset into one dataset"
   ]
  },
  {
   "cell_type": "code",
   "execution_count": null,
   "metadata": {
    "application/vnd.databricks.v1+cell": {
     "cellMetadata": {
      "byteLimit": 2048000,
      "rowLimit": 10000
     },
     "inputWidgets": {},
     "nuid": "af6d627b-7dd5-4eb6-a648-a9839ea2acf2",
     "showTitle": false,
     "title": ""
    }
   },
   "outputs": [],
   "source": [
    "df_combined=spark.read.parquet(\"/FileStore/df_green_cleaned.parquet\").union(spark.read.parquet(\"/FileStore/df_yellow_cleaned.parquet\"))"
   ]
  },
  {
   "cell_type": "markdown",
   "metadata": {
    "application/vnd.databricks.v1+cell": {
     "cellMetadata": {
      "byteLimit": 2048000,
      "rowLimit": 10000
     },
     "inputWidgets": {},
     "nuid": "1efc18dc-0a91-4878-b3cb-6c26878ffd72",
     "showTitle": false,
     "title": ""
    }
   },
   "source": [
    "#### Combine the new dataframe with the location data"
   ]
  },
  {
   "cell_type": "code",
   "execution_count": null,
   "metadata": {
    "application/vnd.databricks.v1+cell": {
     "cellMetadata": {
      "byteLimit": 2048000,
      "rowLimit": 10000
     },
     "inputWidgets": {},
     "nuid": "9861a6c9-cc82-4b7e-a38a-592ea5c091c4",
     "showTitle": false,
     "title": ""
    }
   },
   "outputs": [],
   "source": [
    "#Read the locations file\n",
    "taxi_zone_lookup = spark.read.csv(\"/FileStore/taxi_zone_lookup.csv\", header=True)"
   ]
  },
  {
   "cell_type": "code",
   "execution_count": null,
   "metadata": {
    "application/vnd.databricks.v1+cell": {
     "cellMetadata": {
      "byteLimit": 2048000,
      "rowLimit": 10000
     },
     "inputWidgets": {},
     "nuid": "c457d7c5-8a95-40a7-a6dc-479ac4b84be5",
     "showTitle": false,
     "title": ""
    }
   },
   "outputs": [],
   "source": [
    "#Rename location id to pick up location id\n",
    "taxi_zone_lookup=taxi_zone_lookup.withColumnRenamed(\"LocationID\", \"PULocationID\")"
   ]
  },
  {
   "cell_type": "code",
   "execution_count": null,
   "metadata": {
    "application/vnd.databricks.v1+cell": {
     "cellMetadata": {
      "byteLimit": 2048000,
      "rowLimit": 10000
     },
     "inputWidgets": {},
     "nuid": "0e67951b-d4d9-4cf2-ae72-b02487c0f66d",
     "showTitle": false,
     "title": ""
    }
   },
   "outputs": [],
   "source": [
    "#Left join the combine dataset vs location file by pickup location id column\n",
    "df_combined = df_combined.join(taxi_zone_lookup, on=\"PULocationID\", how=\"left\")"
   ]
  },
  {
   "cell_type": "code",
   "execution_count": null,
   "metadata": {
    "application/vnd.databricks.v1+cell": {
     "cellMetadata": {
      "byteLimit": 2048000,
      "rowLimit": 10000
     },
     "inputWidgets": {},
     "nuid": "90247982-221e-41c8-bad3-0673f56a34d8",
     "showTitle": false,
     "title": ""
    }
   },
   "outputs": [],
   "source": [
    "#Rename location columns to pick up location columns\n",
    "df_combined=df_combined.withColumnRenamed(\"Borough\", \"PUBorough\")\n",
    "df_combined=df_combined.withColumnRenamed(\"Zone\", \"PUZone\")\n",
    "df_combined=df_combined.withColumnRenamed(\"service_zone\", \"PUservice_zone\")"
   ]
  },
  {
   "cell_type": "code",
   "execution_count": null,
   "metadata": {
    "application/vnd.databricks.v1+cell": {
     "cellMetadata": {
      "byteLimit": 2048000,
      "rowLimit": 10000
     },
     "inputWidgets": {},
     "nuid": "08a92de0-cc0c-4deb-98dc-6927fa9052e4",
     "showTitle": false,
     "title": ""
    }
   },
   "outputs": [],
   "source": [
    "#Change the pickuplocationid to drop off locatoon in locations file\n",
    "taxi_zone_lookup=taxi_zone_lookup.withColumnRenamed(\"PULocationID\", \"DOLocationID\")"
   ]
  },
  {
   "cell_type": "code",
   "execution_count": null,
   "metadata": {
    "application/vnd.databricks.v1+cell": {
     "cellMetadata": {
      "byteLimit": 2048000,
      "rowLimit": 10000
     },
     "inputWidgets": {},
     "nuid": "43350e00-a827-4b30-ab07-dabc4d569abb",
     "showTitle": false,
     "title": ""
    }
   },
   "outputs": [],
   "source": [
    "#Left join the combine dataset vs location file by drop off location id column\n",
    "df_combined = df_combined.join(taxi_zone_lookup, on=\"DOLocationID\", how=\"left\")"
   ]
  },
  {
   "cell_type": "code",
   "execution_count": null,
   "metadata": {
    "application/vnd.databricks.v1+cell": {
     "cellMetadata": {
      "byteLimit": 2048000,
      "rowLimit": 10000
     },
     "inputWidgets": {},
     "nuid": "7e46c245-37e2-4b81-ad70-172d307ca28c",
     "showTitle": false,
     "title": ""
    }
   },
   "outputs": [],
   "source": [
    "#Rename location columns to drop off location columns\n",
    "df_combined=df_combined.withColumnRenamed(\"Borough\", \"DOBorough\")\n",
    "df_combined=df_combined.withColumnRenamed(\"Zone\", \"DOZone\")\n",
    "df_combined=df_combined.withColumnRenamed(\"service_zone\", \"DOservice_zone\")"
   ]
  },
  {
   "cell_type": "code",
   "execution_count": null,
   "metadata": {
    "application/vnd.databricks.v1+cell": {
     "cellMetadata": {
      "byteLimit": 2048000,
      "rowLimit": 10000
     },
     "inputWidgets": {},
     "nuid": "0d7ed310-2cbb-4841-9a40-674fc864650d",
     "showTitle": false,
     "title": ""
    }
   },
   "outputs": [],
   "source": [
    "#Save the final dataset as df_taxi_final\n",
    "df_combined.write.parquet(\"/FileStore/df_taxi_final.parquet\")"
   ]
  },
  {
   "cell_type": "markdown",
   "metadata": {
    "application/vnd.databricks.v1+cell": {
     "cellMetadata": {},
     "inputWidgets": {},
     "nuid": "75f4524c-5999-494e-88a3-db2e83cfffac",
     "showTitle": false,
     "title": ""
    }
   },
   "source": [
    "## Part 2: Business Insights"
   ]
  },
  {
   "cell_type": "code",
   "execution_count": null,
   "metadata": {
    "application/vnd.databricks.v1+cell": {
     "cellMetadata": {
      "byteLimit": 2048000,
      "rowLimit": 10000
     },
     "inputWidgets": {},
     "nuid": "32ad36cf-4953-4e82-8361-1437f3e5077f",
     "showTitle": false,
     "title": ""
    }
   },
   "outputs": [],
   "source": [
    "#Read the final dataset\n",
    "df_final=spark.read.parquet(\"/FileStore/df_taxi_final.parquet\")"
   ]
  },
  {
   "cell_type": "code",
   "execution_count": null,
   "metadata": {
    "application/vnd.databricks.v1+cell": {
     "cellMetadata": {
      "byteLimit": 2048000,
      "rowLimit": 10000
     },
     "inputWidgets": {},
     "nuid": "8d49a71c-22ef-4f0b-8e09-8df173a29970",
     "showTitle": false,
     "title": ""
    }
   },
   "outputs": [],
   "source": [
    "#Create a view call NYC_taxi for part 2\n",
    "df_final.createOrReplaceTempView(\"NYC_taxi\")"
   ]
  },
  {
   "cell_type": "code",
   "execution_count": null,
   "metadata": {
    "application/vnd.databricks.v1+cell": {
     "cellMetadata": {
      "byteLimit": 2048000,
      "rowLimit": 10000
     },
     "inputWidgets": {},
     "nuid": "e3813266-e22d-4aa8-a3bc-cfdca0a939f8",
     "showTitle": false,
     "title": ""
    }
   },
   "outputs": [
    {
     "name": "stdout",
     "output_type": "stream",
     "text": [
      "+---------+\n",
      "| count(1)|\n",
      "+---------+\n",
      "|710164711|\n",
      "+---------+\n",
      "\n"
     ]
    }
   ],
   "source": [
    "#Count the total rows\n",
    "spark.sql('''SELECT COUNT(*) FROM NYC_taxi''').show()"
   ]
  },
  {
   "cell_type": "markdown",
   "metadata": {
    "application/vnd.databricks.v1+cell": {
     "cellMetadata": {},
     "inputWidgets": {},
     "nuid": "61e9564d-8f29-4c39-aa0a-e205bd70efd6",
     "showTitle": false,
     "title": ""
    }
   },
   "source": [
    "### Statistical summaries for each year and month"
   ]
  },
  {
   "cell_type": "code",
   "execution_count": null,
   "metadata": {
    "application/vnd.databricks.v1+cell": {
     "cellMetadata": {
      "byteLimit": 2048000,
      "rowLimit": 10000
     },
     "inputWidgets": {},
     "nuid": "817b6529-b200-4c2d-9a6d-b1cc630f7cf0",
     "showTitle": false,
     "title": ""
    }
   },
   "outputs": [
    {
     "name": "stdout",
     "output_type": "stream",
     "text": [
      "+----------+------------+-----------+-----------+------------------+----------------------------+---------------------------------+\n",
      "|year_month|Trip_numbers|Day_of_week|Hour_of_day| Average_passenger|Average_amount_paid_per_trip|Average_amount_paid_per_passenger|\n",
      "+----------+------------+-----------+-----------+------------------+----------------------------+---------------------------------+\n",
      "|   2015-01|    14013391|   Saturday|         19|1.6531349193068259|          15.053532772269476|               12.370529982728575|\n",
      "|   2015-02|    13746678|   Saturday|         19|1.6398554618068453|          15.259085646662706|               12.530163944336808|\n",
      "|   2015-03|    14755224|     Sunday|         19|1.6400066850899722|          15.682274736712088|               12.849473606365931|\n",
      "|   2015-04|    14424813|   Thursday|         19|1.6456055964122378|          15.873917839324294|               12.986156938149938|\n",
      "|   2015-05|    14602446|   Saturday|         19|1.6527965246370369|          16.267578085195826|               13.251353055758779|\n",
      "|   2015-06|    13623051|    Tuesday|         19| 1.649029207921192|          16.198465879591584|               13.216607449809889|\n",
      "|   2015-07|    12792294|  Wednesday|         19|1.6608072797576416|          15.965456576366694|               12.977713510397217|\n",
      "|   2015-08|    12405589|   Saturday|         19|1.6626548727351842|          15.975831471536269|               12.958728773349529|\n",
      "|   2015-09|    12390450|  Wednesday|         19|1.6475413725893733|          16.276991352948162|               13.275689023012461|\n",
      "|   2015-10|    13591780|   Saturday|         19|1.6407220393502544|          16.332198727428224|               13.346287135595288|\n",
      "|   2015-11|    12501662|     Sunday|         19|1.6379228617762982|           16.15191260643141|                13.21182527604917|\n",
      "|   2015-12|    12682866|   Thursday|         19|1.6454485918245922|          16.071752611686197|               13.079870475338476|\n",
      "|   2016-01|    12095473|     Friday|         18|1.6370085733728643|          15.462401042039978|               12.681600475007086|\n",
      "|   2016-02|    12636784|   Saturday|         18|1.6222183587216494|          15.392118466941687|               12.681762631453168|\n",
      "|   2016-03|    13504326|   Thursday|         19|1.6265550757586864|          15.804334921214785|               12.980760270443255|\n",
      "|   2016-04|    13165606|   Saturday|         19|1.6286582630529882|          16.022252691536224|               13.132133308911275|\n",
      "|   2016-05|    13040759|     Sunday|         19|1.6298017623053995|          16.455306517766537|                13.46113283717327|\n",
      "|   2016-06|    12210043|   Thursday|         19|  1.62618739344325|          16.505781998404427|               13.520344952177826|\n",
      "|   2016-07|    11344342|     Friday|         19|1.6368640860792103|          16.271873058762377|               13.283478356427711|\n",
      "|   2016-08|    10921031|  Wednesday|         19|1.6334974234575472|          16.176428032226685|               13.216919452794995|\n",
      "+----------+------------+-----------+-----------+------------------+----------------------------+---------------------------------+\n",
      "only showing top 20 rows\n",
      "\n"
     ]
    }
   ],
   "source": [
    "spark.sql('''\n",
    "SELECT \n",
    "CONCAT(YEAR(pickup_datetime),'-',LPAD(MONTH(pickup_datetime),2,'0')) AS year_month, -- Convert timestamp to year and month then combine them.\n",
    "COUNT(*) AS Trip_numbers,-- count amount of rows\n",
    "MODE(date_format(pickup_datetime,'EEEE')) AS Day_of_week, -- Convert timestamp to day of week where EEEE mean shows in full text\n",
    "MODE(HOUR(pickup_datetime)) AS Hour_of_day,-- Convert timestamp to hour of day\n",
    "AVG(passenger_count) AS Average_passenger,-- Average passenger count\n",
    "AVG(total_amount) AS Average_amount_paid_per_trip, -- Average amount paid per trip\n",
    "AVG(total_amount/passenger_count) AS Average_amount_paid_per_passenger -- Average amount paid per passenger\n",
    "FROM \n",
    "NYC_taxi\n",
    "GROUP BY \n",
    "YEAR(pickup_datetime), MONTH(pickup_datetime)\n",
    "ORDER BY \n",
    "year_month\n",
    "'''\n",
    ").show()"
   ]
  },
  {
   "cell_type": "markdown",
   "metadata": {
    "application/vnd.databricks.v1+cell": {
     "cellMetadata": {},
     "inputWidgets": {},
     "nuid": "9f0dab54-68a5-45f2-8bb2-2992f04273c5",
     "showTitle": false,
     "title": ""
    }
   },
   "source": [
    "### Statistical summaries for each taxi color"
   ]
  },
  {
   "cell_type": "code",
   "execution_count": null,
   "metadata": {
    "application/vnd.databricks.v1+cell": {
     "cellMetadata": {
      "byteLimit": 2048000,
      "rowLimit": 10000
     },
     "inputWidgets": {},
     "nuid": "fac12117-116c-43b2-822f-896290ece2fe",
     "showTitle": false,
     "title": ""
    }
   },
   "outputs": [
    {
     "name": "stdout",
     "output_type": "stream",
     "text": [
      "+-----------+------------------------+-----------------------+------------------------+------------------------+-------------------+------------------+-------------------+-------------------+------------------+------------------+-----------------+-----------------+\n",
      "|Taxi_colour|Average_duration_minutes|Median_duration_minutes|Minimum_duration_minutes|Maximum_duration_minutes|Average_distance_km|Median_distance_km|Minimum_distance_km|Maximum_distance_km| Average_speed_kmh|  Median_speed_kmh|Minimum_speed_kmh|Maximum_speed_kmh|\n",
      "+-----------+------------------------+-----------------------+------------------------+------------------------+-------------------+------------------+-------------------+-------------------+------------------+------------------+-----------------+-----------------+\n",
      "|      green|               13.971448|                  10.72|                    1.02|                  179.98|  4.940264679059886|         3.1382208|         0.09656064|        99.95635584| 20.31753589517611|18.384914052513132|5.000018450238708|88.49661522580645|\n",
      "|     yellow|               14.388757|                  11.23|                    1.02|                  180.00|   4.91903521964789|        2.75197824|         0.09656064|  99.98854272000001|18.880836472986967|16.544197181619257|5.000018450238708|88.49992570434782|\n",
      "+-----------+------------------------+-----------------------+------------------------+------------------------+-------------------+------------------+-------------------+-------------------+------------------+------------------+-----------------+-----------------+\n",
      "\n"
     ]
    }
   ],
   "source": [
    "spark.sql('''\n",
    "SELECT \n",
    "colour AS Taxi_colour,\n",
    "AVG(round((unix_timestamp(dropoff_datetime) - unix_timestamp(pickup_datetime))/ 60.0, 2)) AS Average_duration_minutes,-- Average trip duration in minutes and round to 2 decimal\n",
    "MEDIAN(round((unix_timestamp(dropoff_datetime) - unix_timestamp(pickup_datetime))/ 60.0, 2)) AS Median_duration_minutes,-- Midian trip duration in minutes and round to 2 decimal\n",
    "MIN(round((unix_timestamp(dropoff_datetime) - unix_timestamp(pickup_datetime))/ 60.0, 2)) AS Minimum_duration_minutes,-- Minimum trip duration in minutes and round to 2 decimal\n",
    "MAX(round((unix_timestamp(dropoff_datetime) - unix_timestamp(pickup_datetime))/ 60.0, 2)) AS Maximum_duration_minutes,-- Maximum trip duration in minutes and round to 2 decimal\n",
    "AVG(distance_km) AS Average_distance_km,-- Average distance by kilometer\n",
    "MEDIAN(distance_km) AS Median_distance_km,-- Median distance by kilometer\n",
    "MIN(distance_km) AS Minimum_distance_km,-- Minimum distance by kilometer\n",
    "MAX(distance_km) AS Maximum_distance_km,-- Maximum distance by kilometer\n",
    "AVG(speed) AS Average_speed_kmh,-- Average speed by kilometer per hour\n",
    "MEDIAN(speed) AS Median_speed_kmh,-- Median speed by kilometer per hour\n",
    "MIN(speed) AS Minimum_speed_kmh,-- Minimum speed by kilometer per hour\n",
    "MAX(speed) AS Maximum_speed_kmh-- Maximum speed by kilometer per hour\n",
    "FROM \n",
    "NYC_taxi\n",
    "GROUP BY \n",
    "colour\n",
    "ORDER BY \n",
    "colour\n",
    "'''\n",
    ").show()"
   ]
  },
  {
   "cell_type": "markdown",
   "metadata": {
    "application/vnd.databricks.v1+cell": {
     "cellMetadata": {},
     "inputWidgets": {},
     "nuid": "8698cbc7-968b-4d81-ad29-f3d1b5648312",
     "showTitle": false,
     "title": ""
    }
   },
   "source": [
    "### Statistical summaries for each taxi color (yellow and green), each pair of pick up and drop off boroughs locations, each month, each day of week and each hour"
   ]
  },
  {
   "cell_type": "code",
   "execution_count": null,
   "metadata": {
    "application/vnd.databricks.v1+cell": {
     "cellMetadata": {
      "byteLimit": 2048000,
      "rowLimit": 10000
     },
     "inputWidgets": {},
     "nuid": "9929abb2-1267-40ae-bafc-373c812ee7af",
     "showTitle": false,
     "title": ""
    }
   },
   "outputs": [
    {
     "name": "stdout",
     "output_type": "stream",
     "text": [
      "+-----------+----------------+-----------------+-------------+-----------+-----------+------------+------------------+----------------------------+------------------+\n",
      "|Taxi_colour|Pick_up_location|Drop_off_location|Month_of_year|Day_of_week|Hour_of_day|Trip_numbers|  Average_distance|Average_amount_paid_per_trip| Total_amount_paid|\n",
      "+-----------+----------------+-----------------+-------------+-----------+-----------+------------+------------------+----------------------------+------------------+\n",
      "|      green|           Bronx|            Bronx|           01|     Friday|          0|         931|3.7668675588399565|          11.075617615467218| 10311.39999999998|\n",
      "|      green|           Bronx|            Bronx|           01|     Friday|          1|         829|  3.74027852583836|          11.248419782870906|  9324.93999999998|\n",
      "|      green|           Bronx|            Bronx|           01|     Friday|          2|         616|3.9220183542857145|          11.832581168831146| 7288.869999999986|\n",
      "|      green|           Bronx|            Bronx|           01|     Friday|          3|         446| 4.492270880717489|          12.217152466367695| 5448.849999999992|\n",
      "|      green|           Bronx|            Bronx|           01|     Friday|          4|         413| 4.735991551380145|          13.748619854721532| 5678.179999999993|\n",
      "|      green|           Bronx|            Bronx|           01|     Friday|          5|         433|4.8292956881293305|          14.748845265588896| 6386.249999999992|\n",
      "|      green|           Bronx|            Bronx|           01|     Friday|          6|         766|  5.34594243007833|          15.860169712793738|12148.890000000003|\n",
      "|      green|           Bronx|            Bronx|           01|     Friday|          7|        2017|4.4351031223401085|          14.224714923153268|28691.250000000142|\n",
      "|      green|           Bronx|            Bronx|           01|     Friday|          8|        2975| 4.194247989781513|          13.448941176470674| 40010.60000000025|\n",
      "|      green|           Bronx|            Bronx|           01|     Friday|          9|        2538| 4.516245378723404|          14.242986603624981|  36148.7000000002|\n",
      "|      green|           Bronx|            Bronx|           01|     Friday|         10|        2167| 4.666109862335025|          14.613137978772572|31666.670000000166|\n",
      "|      green|           Bronx|            Bronx|           01|     Friday|         11|        2157|4.9276591230041715|          15.030347705146113|32420.460000000166|\n",
      "|      green|           Bronx|            Bronx|           01|     Friday|         12|        2132|4.8571390847279545|          14.632185741088252|31195.820000000153|\n",
      "|      green|           Bronx|            Bronx|           01|     Friday|         13|        2101| 4.657660609005237|          14.205045216563617| 29844.80000000016|\n",
      "|      green|           Bronx|            Bronx|           01|     Friday|         14|        2521| 4.491129462911546|          14.230130900436423| 35874.16000000022|\n",
      "|      green|           Bronx|            Bronx|           01|     Friday|         15|        2731|  4.35956027055291|          14.101592823141797|38511.450000000244|\n",
      "|      green|           Bronx|            Bronx|           01|     Friday|         16|        2731| 4.154234847660197|          14.096938850238104| 38498.74000000026|\n",
      "|      green|           Bronx|            Bronx|           01|     Friday|         17|        2828| 4.141869861386139|          14.124299858557373| 39943.52000000025|\n",
      "|      green|           Bronx|            Bronx|           01|     Friday|         18|        2703|3.8436826665482804|          13.036108028117006| 35236.60000000027|\n",
      "|      green|           Bronx|            Bronx|           01|     Friday|         19|        2287| 3.867182559090512|          12.839864451246255|29364.770000000186|\n",
      "+-----------+----------------+-----------------+-------------+-----------+-----------+------------+------------------+----------------------------+------------------+\n",
      "only showing top 20 rows\n",
      "\n"
     ]
    }
   ],
   "source": [
    "spark.sql('''\n",
    "SELECT \n",
    "colour AS Taxi_colour,\n",
    "PUBorough AS Pick_up_location,\n",
    "DOBorough AS Drop_off_location,\n",
    "LPAD(MONTH(pickup_datetime),2,'0') AS Month_of_year,-- Extract month from a timestamp\n",
    "date_format(pickup_datetime,'EEEE') AS Day_of_week,-- Extract day from a timestamp\n",
    "HOUR(pickup_datetime) AS Hour_of_day,-- Extract hour from a timestamp\n",
    "COUNT(*) AS Trip_numbers,-- Count number of trips\n",
    "AVG(distance_km) AS Average_distance,-- Average distance per trip in kilometer\n",
    "AVG(total_amount) AS Average_amount_paid_per_trip,-- Average amount paid per trip\n",
    "SUM(total_amount) AS Total_amount_paid -- Total number of money has paid\n",
    "FROM \n",
    "NYC_taxi\n",
    "GROUP BY \n",
    "Taxi_colour,Pick_up_location,Drop_off_location,Month_of_year, Day_of_week, Hour_of_day\n",
    "ORDER BY \n",
    "Taxi_colour,Pick_up_location,Drop_off_location,Month_of_year, Day_of_week, Hour_of_day\n",
    "'''\n",
    ").show()"
   ]
  },
  {
   "cell_type": "markdown",
   "metadata": {
    "application/vnd.databricks.v1+cell": {
     "cellMetadata": {},
     "inputWidgets": {},
     "nuid": "f401f36b-4120-4b97-acbe-28cd9b2b3944",
     "showTitle": false,
     "title": ""
    }
   },
   "source": [
    "### The percentage of trips where drivers received tips"
   ]
  },
  {
   "cell_type": "code",
   "execution_count": null,
   "metadata": {
    "application/vnd.databricks.v1+cell": {
     "cellMetadata": {
      "byteLimit": 2048000,
      "rowLimit": 10000
     },
     "inputWidgets": {},
     "nuid": "f81d15a3-eecd-468b-8cab-df270f6e9f1c",
     "showTitle": false,
     "title": ""
    }
   },
   "outputs": [
    {
     "name": "stdout",
     "output_type": "stream",
     "text": [
      "+-----------------------+\n",
      "|percentage_received_tip|\n",
      "+-----------------------+\n",
      "|      63.70771526550831|\n",
      "+-----------------------+\n",
      "\n"
     ]
    }
   ],
   "source": [
    "spark.sql('''\n",
    "SELECT \n",
    "(SUM(CASE WHEN tip_amount>0 THEN 1 ELSE 0 END)/COUNT(*))*100 AS percentage_received_tip -- Count the number of trips that recieved tips over all trips\n",
    "FROM \n",
    "NYC_taxi\n",
    "'''\n",
    ").show()"
   ]
  },
  {
   "cell_type": "markdown",
   "metadata": {
    "application/vnd.databricks.v1+cell": {
     "cellMetadata": {},
     "inputWidgets": {},
     "nuid": "2d1ad5c1-087e-4f0b-bc96-04b0fc16944d",
     "showTitle": false,
     "title": ""
    }
   },
   "source": [
    "### The proportion of drivers who received tips amounting to at least $5 per trip"
   ]
  },
  {
   "cell_type": "code",
   "execution_count": null,
   "metadata": {
    "application/vnd.databricks.v1+cell": {
     "cellMetadata": {
      "byteLimit": 2048000,
      "rowLimit": 10000
     },
     "inputWidgets": {},
     "nuid": "ec8c5efe-b604-4573-a5fa-2b7760df0f32",
     "showTitle": false,
     "title": ""
    }
   },
   "outputs": [
    {
     "name": "stdout",
     "output_type": "stream",
     "text": [
      "+--------------------------------+\n",
      "|percentage_received_5dollars_tip|\n",
      "+--------------------------------+\n",
      "|              12.287222418318981|\n",
      "+--------------------------------+\n",
      "\n"
     ]
    }
   ],
   "source": [
    "spark.sql('''\n",
    "SELECT \n",
    "(SUM(CASE WHEN tip_amount>=5 THEN 1 ELSE 0 END)/SUM(CASE WHEN tip_amount>0 THEN 1 ELSE 0 END))*100 AS percentage_received_5dollars_tip -- Count the number of trips that recieved $5 tips over all trips that recieved tips\n",
    "FROM \n",
    "NYC_taxi\n",
    "'''\n",
    ").show()"
   ]
  },
  {
   "cell_type": "markdown",
   "metadata": {
    "application/vnd.databricks.v1+cell": {
     "cellMetadata": {},
     "inputWidgets": {},
     "nuid": "1ed7aefa-c7d8-4c0d-a18c-ffb17d91455e",
     "showTitle": false,
     "title": ""
    }
   },
   "source": [
    "### Statistical summaries for each trip into bins of durations"
   ]
  },
  {
   "cell_type": "code",
   "execution_count": null,
   "metadata": {
    "application/vnd.databricks.v1+cell": {
     "cellMetadata": {
      "byteLimit": 2048000,
      "rowLimit": 10000
     },
     "inputWidgets": {},
     "nuid": "91027ab9-f54e-4a91-a727-919eb195ee82",
     "showTitle": false,
     "title": ""
    }
   },
   "outputs": [
    {
     "name": "stdout",
     "output_type": "stream",
     "text": [
      "+------------------+---------------------------+--------------------+\n",
      "|     Average_speed|Average_distance_per_dollar|   bins_of_durations|\n",
      "+------------------+---------------------------+--------------------+\n",
      "| 19.60273018813133|        0.16154092502199857|        Under 5 Mins|\n",
      "|17.091168688731226|        0.21025061560854924|From 5 mins to 10...|\n",
      "|17.878275341594218|        0.26013598338870625|From 10 mins to 2...|\n",
      "| 21.53802559607799|         0.3112550310469862|From 20 mins to 3...|\n",
      "|   25.969016947008|         0.3774536957353038|From 30 mins to 6...|\n",
      "|23.014794305077874|         0.5334452551560225|    At least 60 mins|\n",
      "+------------------+---------------------------+--------------------+\n",
      "\n"
     ]
    }
   ],
   "source": [
    "spark.sql('''\n",
    "SELECT\n",
    "AVG(speed) AS Average_speed, --Average speed\n",
    "AVG(distance_km/total_amount) AS Average_distance_per_dollar, --Average distance per dollar\n",
    "CASE --Create bins of trip durations\n",
    "WHEN (unix_timestamp(dropoff_datetime) - unix_timestamp(pickup_datetime))/60.0 <= 5 THEN 'Under 5 Mins'\n",
    "WHEN (unix_timestamp(dropoff_datetime) - unix_timestamp(pickup_datetime))/60.0 > 5 AND (unix_timestamp(dropoff_datetime) - unix_timestamp(pickup_datetime))/ 60.0 <= 10 THEN 'From 5 mins to 10 mins'\n",
    "WHEN (unix_timestamp(dropoff_datetime) - unix_timestamp(pickup_datetime))/60.0 > 10 AND (unix_timestamp(dropoff_datetime) - unix_timestamp(pickup_datetime))/ 60.0 <= 20 THEN 'From 10 mins to 20 mins'\n",
    "WHEN (unix_timestamp(dropoff_datetime) - unix_timestamp(pickup_datetime))/60.0 > 20 AND (unix_timestamp(dropoff_datetime) - unix_timestamp(pickup_datetime))/ 60.0 <= 30 THEN 'From 20 mins to 30 mins'\n",
    "WHEN (unix_timestamp(dropoff_datetime) - unix_timestamp(pickup_datetime))/60.0 > 30 AND (unix_timestamp(dropoff_datetime) - unix_timestamp(pickup_datetime))/ 60.0 <= 60 THEN 'From 30 mins to 60 mins'\n",
    "ELSE 'At least 60 mins'\n",
    "END AS bins_of_durations\n",
    "FROM \n",
    "NYC_taxi\n",
    "GROUP BY\n",
    "bins_of_durations\n",
    "ORDER BY\n",
    "Average_distance_per_dollar \n",
    "'''\n",
    ").show()\n"
   ]
  },
  {
   "cell_type": "markdown",
   "metadata": {
    "application/vnd.databricks.v1+cell": {
     "cellMetadata": {},
     "inputWidgets": {},
     "nuid": "2934079d-4495-4ce3-9988-e0305f3e882d",
     "showTitle": false,
     "title": ""
    }
   },
   "source": [
    "## Part 3: Build different ML models using Spark ML pipelines + a baseline model to predict the total amount of a trip"
   ]
  },
  {
   "cell_type": "markdown",
   "metadata": {
    "application/vnd.databricks.v1+cell": {
     "cellMetadata": {},
     "inputWidgets": {},
     "nuid": "e4e54596-7273-449a-a033-eb8143c9148b",
     "showTitle": false,
     "title": ""
    }
   },
   "source": [
    "### Data loading"
   ]
  },
  {
   "cell_type": "code",
   "execution_count": null,
   "metadata": {
    "application/vnd.databricks.v1+cell": {
     "cellMetadata": {
      "byteLimit": 2048000,
      "rowLimit": 10000
     },
     "inputWidgets": {},
     "nuid": "ea660b42-4243-4398-8d53-c3ccbd0a2586",
     "showTitle": false,
     "title": ""
    }
   },
   "outputs": [],
   "source": [
    "#Loading final dataset\n",
    "df_final=spark.read.parquet(\"/FileStore/df_taxi_final.parquet\")"
   ]
  },
  {
   "cell_type": "code",
   "execution_count": null,
   "metadata": {
    "application/vnd.databricks.v1+cell": {
     "cellMetadata": {
      "byteLimit": 2048000,
      "rowLimit": 10000
     },
     "inputWidgets": {},
     "nuid": "8bdabf65-eb83-4b54-bc1f-66978e224660",
     "showTitle": false,
     "title": ""
    }
   },
   "outputs": [],
   "source": [
    "# Add new columns such as month, day and hour to final dataset \n",
    "df_final=df_final.withColumn(\"month_of_year\",F.month(F.col(\"pickup_datetime\")))\n",
    "df_final=df_final.withColumn('day_of_week',F.dayofweek(F.col(\"pickup_datetime\")))\n",
    "df_final=df_final.withColumn('hour_of_day',F.hour(F.col(\"pickup_datetime\")))"
   ]
  },
  {
   "cell_type": "code",
   "execution_count": null,
   "metadata": {
    "application/vnd.databricks.v1+cell": {
     "cellMetadata": {
      "byteLimit": 2048000,
      "rowLimit": 10000
     },
     "inputWidgets": {},
     "nuid": "a2f51235-c149-4590-9ce3-5642ab347b9c",
     "showTitle": false,
     "title": ""
    }
   },
   "outputs": [
    {
     "name": "stdout",
     "output_type": "stream",
     "text": [
      "+--------------------+----------+\n",
      "|              Column|Null_Count|\n",
      "+--------------------+----------+\n",
      "|        DOLocationID|         0|\n",
      "|        PULocationID|         0|\n",
      "|            VendorID|         0|\n",
      "|     pickup_datetime|         0|\n",
      "|    dropoff_datetime|         0|\n",
      "|  store_and_fwd_flag|   5611640|\n",
      "|          RatecodeID|   5611640|\n",
      "|     passenger_count|   5611640|\n",
      "|         fare_amount|         0|\n",
      "|               extra|         0|\n",
      "|             mta_tax|         0|\n",
      "|          tip_amount|         0|\n",
      "|        tolls_amount|         0|\n",
      "|improvement_surch...|         4|\n",
      "|        total_amount|         0|\n",
      "|        payment_type|   1745545|\n",
      "|congestion_surcharge| 537083283|\n",
      "|            fileyear|         0|\n",
      "|         distance_km|         0|\n",
      "|               speed|         0|\n",
      "+--------------------+----------+\n",
      "only showing top 20 rows\n",
      "\n"
     ]
    }
   ],
   "source": [
    "#Show columns with number of null records\n",
    "NC = []\n",
    "for column in df_final.columns:\n",
    "    NC = df_final.filter(F.col(column).isNull()).count()\n",
    "    NC.append((column, NC))\n",
    "count_df = spark.createDataFrame(NC,[\"Column\", \"Null_Count\"])"
   ]
  },
  {
   "cell_type": "code",
   "execution_count": null,
   "metadata": {
    "application/vnd.databricks.v1+cell": {
     "cellMetadata": {
      "byteLimit": 2048000,
      "rowLimit": 10000
     },
     "inputWidgets": {},
     "nuid": "4a21cb13-7a2c-4ee3-bd7e-7859c5136741",
     "showTitle": false,
     "title": ""
    }
   },
   "outputs": [
    {
     "data": {
      "text/html": [
       "<style scoped>\n",
       "  .table-result-container {\n",
       "    max-height: 300px;\n",
       "    overflow: auto;\n",
       "  }\n",
       "  table, th, td {\n",
       "    border: 1px solid black;\n",
       "    border-collapse: collapse;\n",
       "  }\n",
       "  th, td {\n",
       "    padding: 5px;\n",
       "  }\n",
       "  th {\n",
       "    text-align: left;\n",
       "  }\n",
       "</style><div class='table-result-container'><table class='table-result'><thead style='background-color: white'><tr><th>Column</th><th>Null_Count</th></tr></thead><tbody><tr><td>DOLocationID</td><td>0</td></tr><tr><td>PULocationID</td><td>0</td></tr><tr><td>VendorID</td><td>0</td></tr><tr><td>pickup_datetime</td><td>0</td></tr><tr><td>dropoff_datetime</td><td>0</td></tr><tr><td>store_and_fwd_flag</td><td>5611640</td></tr><tr><td>RatecodeID</td><td>5611640</td></tr><tr><td>passenger_count</td><td>5611640</td></tr><tr><td>fare_amount</td><td>0</td></tr><tr><td>extra</td><td>0</td></tr><tr><td>mta_tax</td><td>0</td></tr><tr><td>tip_amount</td><td>0</td></tr><tr><td>tolls_amount</td><td>0</td></tr><tr><td>improvement_surcharge</td><td>4</td></tr><tr><td>total_amount</td><td>0</td></tr><tr><td>payment_type</td><td>1745545</td></tr><tr><td>congestion_surcharge</td><td>537083283</td></tr><tr><td>fileyear</td><td>0</td></tr><tr><td>distance_km</td><td>0</td></tr><tr><td>speed</td><td>0</td></tr><tr><td>colour</td><td>0</td></tr><tr><td>ehail_fee</td><td>710161773</td></tr><tr><td>trip_type</td><td>648100939</td></tr><tr><td>airport_fee</td><td>648551669</td></tr><tr><td>PUBorough</td><td>0</td></tr><tr><td>PUZone</td><td>0</td></tr><tr><td>PUservice_zone</td><td>0</td></tr><tr><td>DOBorough</td><td>0</td></tr><tr><td>DOZone</td><td>0</td></tr><tr><td>DOservice_zone</td><td>0</td></tr><tr><td>month_of_year</td><td>0</td></tr><tr><td>day_of_week</td><td>0</td></tr><tr><td>hour_of_day</td><td>0</td></tr></tbody></table></div>"
      ]
     },
     "metadata": {
      "application/vnd.databricks.v1+output": {
       "addedWidgets": {},
       "aggData": [],
       "aggError": "",
       "aggOverflow": false,
       "aggSchema": [],
       "aggSeriesLimitReached": false,
       "aggType": "",
       "arguments": {},
       "columnCustomDisplayInfos": {},
       "data": [
        [
         "DOLocationID",
         0
        ],
        [
         "PULocationID",
         0
        ],
        [
         "VendorID",
         0
        ],
        [
         "pickup_datetime",
         0
        ],
        [
         "dropoff_datetime",
         0
        ],
        [
         "store_and_fwd_flag",
         5611640
        ],
        [
         "RatecodeID",
         5611640
        ],
        [
         "passenger_count",
         5611640
        ],
        [
         "fare_amount",
         0
        ],
        [
         "extra",
         0
        ],
        [
         "mta_tax",
         0
        ],
        [
         "tip_amount",
         0
        ],
        [
         "tolls_amount",
         0
        ],
        [
         "improvement_surcharge",
         4
        ],
        [
         "total_amount",
         0
        ],
        [
         "payment_type",
         1745545
        ],
        [
         "congestion_surcharge",
         537083283
        ],
        [
         "fileyear",
         0
        ],
        [
         "distance_km",
         0
        ],
        [
         "speed",
         0
        ],
        [
         "colour",
         0
        ],
        [
         "ehail_fee",
         710161773
        ],
        [
         "trip_type",
         648100939
        ],
        [
         "airport_fee",
         648551669
        ],
        [
         "PUBorough",
         0
        ],
        [
         "PUZone",
         0
        ],
        [
         "PUservice_zone",
         0
        ],
        [
         "DOBorough",
         0
        ],
        [
         "DOZone",
         0
        ],
        [
         "DOservice_zone",
         0
        ],
        [
         "month_of_year",
         0
        ],
        [
         "day_of_week",
         0
        ],
        [
         "hour_of_day",
         0
        ]
       ],
       "datasetInfos": [],
       "dbfsResultPath": null,
       "isJsonSchema": true,
       "metadata": {},
       "overflow": false,
       "plotOptions": {
        "customPlotOptions": {},
        "displayType": "table",
        "pivotAggregation": null,
        "pivotColumns": null,
        "xColumns": null,
        "yColumns": null
       },
       "removedWidgets": [],
       "schema": [
        {
         "metadata": "{}",
         "name": "Column",
         "type": "\"string\""
        },
        {
         "metadata": "{}",
         "name": "Null_Count",
         "type": "\"long\""
        }
       ],
       "type": "table"
      }
     },
     "output_type": "display_data"
    }
   ],
   "source": [
    "display(count_df)"
   ]
  },
  {
   "cell_type": "code",
   "execution_count": null,
   "metadata": {
    "application/vnd.databricks.v1+cell": {
     "cellMetadata": {
      "byteLimit": 2048000,
      "rowLimit": 10000
     },
     "inputWidgets": {},
     "nuid": "b2f3fbc7-da5b-4af3-b39d-dbf77f19afaa",
     "showTitle": false,
     "title": ""
    }
   },
   "outputs": [],
   "source": [
    "#Drop null columns and columns not using for modeing\n",
    "columns_drop=[\"VendorID\",\"DOLocationID\",\"PULocationID\",\"pickup_datetime\",\"dropoff_datetime\",\"store_and_fwd_flag\",\"passenger_count\",\"fare_amount\",\"payment_type\",\"congestion_surcharge\",\"ehail_fee\",\"trip_type\",\"airport_fee\",\"PUZone\",\"PUservice_zone\",\"DOZone\",\"DOservice_zone\"]\n",
    "df_final = df_final.drop(*columns_drop)"
   ]
  },
  {
   "cell_type": "markdown",
   "metadata": {
    "application/vnd.databricks.v1+cell": {
     "cellMetadata": {},
     "inputWidgets": {},
     "nuid": "5c2bc7da-4703-4b44-9297-d7a41896a411",
     "showTitle": false,
     "title": ""
    }
   },
   "source": [
    "Get data from Part 2"
   ]
  },
  {
   "cell_type": "code",
   "execution_count": null,
   "metadata": {
    "application/vnd.databricks.v1+cell": {
     "cellMetadata": {
      "byteLimit": 2048000,
      "rowLimit": 10000
     },
     "inputWidgets": {},
     "nuid": "9b654631-5505-46d5-af65-bb7fe6cde2d8",
     "showTitle": false,
     "title": ""
    }
   },
   "outputs": [
    {
     "name": "stdout",
     "output_type": "stream",
     "text": [
      "+------+---------+---------+-------------+-----------+-----------+----------------------------+\n",
      "|colour|PUBorough|DOBorough|month_of_year|day_of_week|hour_of_day|Average_amount_paid_per_trip|\n",
      "+------+---------+---------+-------------+-----------+-----------+----------------------------+\n",
      "| green|Manhattan|Manhattan|            5|          6|         22|           12.00181321270344|\n",
      "| green| Brooklyn| Brooklyn|            5|          7|         12|          13.075475733479434|\n",
      "| green|   Queens|Manhattan|            5|          1|         10|            26.0941881100267|\n",
      "| green|    Bronx|    Bronx|            5|          2|         22|           11.96380361173816|\n",
      "| green|Manhattan|    Bronx|            5|          1|          6|          15.531378205128188|\n",
      "+------+---------+---------+-------------+-----------+-----------+----------------------------+\n",
      "only showing top 5 rows\n",
      "\n"
     ]
    }
   ],
   "source": [
    "df_p2q3c = df_final.groupBy('colour','PUBorough','DOBorough','month_of_year','day_of_week','hour_of_day').agg(F.avg('total_amount').alias('Average_amount_paid_per_trip'))\n",
    "df_p2q3c.show(5)"
   ]
  },
  {
   "cell_type": "markdown",
   "metadata": {
    "application/vnd.databricks.v1+cell": {
     "cellMetadata": {},
     "inputWidgets": {},
     "nuid": "0174c9f7-cbe8-48b4-bd52-aa0f9accb978",
     "showTitle": false,
     "title": ""
    }
   },
   "source": [
    "### Data Processing"
   ]
  },
  {
   "cell_type": "code",
   "execution_count": null,
   "metadata": {
    "application/vnd.databricks.v1+cell": {
     "cellMetadata": {
      "byteLimit": 2048000,
      "rowLimit": 10000
     },
     "inputWidgets": {},
     "nuid": "ff08c9ba-f27d-4b86-97dc-af04e65b7ecd",
     "showTitle": false,
     "title": ""
    }
   },
   "outputs": [
    {
     "name": "stdout",
     "output_type": "stream",
     "text": [
      "Out[16]: 704553067"
     ]
    }
   ],
   "source": [
    "#Drop all null records\n",
    "df_final=df_final.na.drop()\n",
    "df_final.count()"
   ]
  },
  {
   "cell_type": "markdown",
   "metadata": {
    "application/vnd.databricks.v1+cell": {
     "cellMetadata": {},
     "inputWidgets": {},
     "nuid": "5950b5c9-13d1-4c93-9604-3fa27f66e2b5",
     "showTitle": false,
     "title": ""
    }
   },
   "source": [
    "Join Part 2 dataset and combined dataset(10/11/12-2022 only)"
   ]
  },
  {
   "cell_type": "code",
   "execution_count": null,
   "metadata": {
    "application/vnd.databricks.v1+cell": {
     "cellMetadata": {
      "byteLimit": 2048000,
      "rowLimit": 10000
     },
     "inputWidgets": {},
     "nuid": "527e7be2-85f1-4a8e-a387-f92011f66e12",
     "showTitle": false,
     "title": ""
    }
   },
   "outputs": [
    {
     "name": "stdout",
     "output_type": "stream",
     "text": [
      "+----------+-----+-------+----------+------------+---------------------+------------+--------+------------------+------------------+------+---------+---------+-------------+-----------+-----------+\n",
      "|RatecodeID|extra|mta_tax|tip_amount|tolls_amount|improvement_surcharge|total_amount|fileyear|       distance_km|             speed|colour|PUBorough|DOBorough|month_of_year|day_of_week|hour_of_day|\n",
      "+----------+-----+-------+----------+------------+---------------------+------------+--------+------------------+------------------+------+---------+---------+-------------+-----------+-----------+\n",
      "|       1.0|  0.0|    0.5|       0.0|         0.0|                  0.3|         5.8|    2022|0.6276441600000001|7.8184047612456755| green|Manhattan|Manhattan|           12|          5|         10|\n",
      "|       1.0|  0.0|    0.5|      5.45|         0.0|                  0.3|       27.25|    2022| 7.612197120000001|16.568264590084645| green| Brooklyn| Brooklyn|           12|          5|         11|\n",
      "|       1.0|  0.0|    0.5|      3.21|         0.0|                  0.3|       19.26|    2022|3.6210240000000002|12.160155223880599| green|Manhattan|Manhattan|           12|          5|         11|\n",
      "|       1.0|  0.0|    0.5|       0.0|         0.0|                  0.3|         8.8|    2022|2.8807257600000002|         19.312128| green|Manhattan|Manhattan|           12|          5|         12|\n",
      "|       1.0|  0.0|    0.5|      6.51|         0.0|                  0.3|       39.06|    2022|12.778191360000001| 23.73657837770898| green|Manhattan|Manhattan|           12|          5|         14|\n",
      "+----------+-----+-------+----------+------------+---------------------+------------+--------+------------------+------------------+------+---------+---------+-------------+-----------+-----------+\n",
      "only showing top 5 rows\n",
      "\n"
     ]
    }
   ],
   "source": [
    "Q1_dataset=df_final.filter(F.col(\"month_of_year\").isin([10, 11, 12])&((F.col(\"fileyear\") == '2022')))\n",
    "Q1_dataset.show(5)"
   ]
  },
  {
   "cell_type": "code",
   "execution_count": null,
   "metadata": {
    "application/vnd.databricks.v1+cell": {
     "cellMetadata": {
      "byteLimit": 2048000,
      "rowLimit": 10000
     },
     "inputWidgets": {},
     "nuid": "07cb4b24-ffd8-4f26-a832-fc92a6bef0bf",
     "showTitle": false,
     "title": ""
    }
   },
   "outputs": [],
   "source": [
    "#Join octember/november/december 2022 dataset vs dataset from part 2\n",
    "Q1_dataset = Q1_dataset.join(df_p2q3c,['colour','PUBorough','DOBorough','month_of_year','day_of_week','hour_of_day'], how=\"left\")"
   ]
  },
  {
   "cell_type": "code",
   "execution_count": null,
   "metadata": {
    "application/vnd.databricks.v1+cell": {
     "cellMetadata": {
      "byteLimit": 2048000,
      "rowLimit": 10000
     },
     "inputWidgets": {},
     "nuid": "3a97569e-cbe7-4161-a17d-4438e9130eaf",
     "showTitle": false,
     "title": ""
    }
   },
   "outputs": [],
   "source": [
    "#Saving part 3 file for baseline\n",
    "Q1_dataset.write.parquet(\"/FileStore/p3q1_dataset.parquet\")"
   ]
  },
  {
   "cell_type": "code",
   "execution_count": null,
   "metadata": {
    "application/vnd.databricks.v1+cell": {
     "cellMetadata": {
      "byteLimit": 2048000,
      "rowLimit": 10000
     },
     "inputWidgets": {},
     "nuid": "313f91e8-d906-474d-9eb4-d4eec394d420",
     "showTitle": false,
     "title": ""
    }
   },
   "outputs": [],
   "source": [
    "#Drop locations columns they are unused\n",
    "columns_drop=[\"PUBorough\",\"DOBorough\"]\n",
    "df_final = df_final.drop(*columns_drop)"
   ]
  },
  {
   "cell_type": "markdown",
   "metadata": {
    "application/vnd.databricks.v1+cell": {
     "cellMetadata": {},
     "inputWidgets": {},
     "nuid": "6ffd0897-87d5-40ce-a873-af12771c9e83",
     "showTitle": false,
     "title": ""
    }
   },
   "source": [
    "RateCodeID from 1 to 6, but it does not meaning for higher rank of final rate. Therefore, it will be convert back to category and then used for one hot encoding."
   ]
  },
  {
   "cell_type": "code",
   "execution_count": null,
   "metadata": {
    "application/vnd.databricks.v1+cell": {
     "cellMetadata": {
      "byteLimit": 2048000,
      "rowLimit": 10000
     },
     "inputWidgets": {},
     "nuid": "95386fa0-18f0-4f53-a958-6672cdabafa5",
     "showTitle": false,
     "title": ""
    }
   },
   "outputs": [],
   "source": [
    "df_final=df_final.withColumn(\"RatecodeID\", F.col(\"RatecodeID\").cast(\"string\"))"
   ]
  },
  {
   "cell_type": "markdown",
   "metadata": {
    "application/vnd.databricks.v1+cell": {
     "cellMetadata": {},
     "inputWidgets": {},
     "nuid": "b4647756-e07f-42ac-b263-0e6f32f12f45",
     "showTitle": false,
     "title": ""
    }
   },
   "source": [
    "Create a variable called cat_cols that contains the following values: 'RatecodeID','colour'"
   ]
  },
  {
   "cell_type": "code",
   "execution_count": null,
   "metadata": {
    "application/vnd.databricks.v1+cell": {
     "cellMetadata": {
      "byteLimit": 2048000,
      "rowLimit": 10000
     },
     "inputWidgets": {},
     "nuid": "1ed10892-75d4-463f-afd4-b9b7bfa5d0f5",
     "showTitle": false,
     "title": ""
    }
   },
   "outputs": [],
   "source": [
    "cat_cols = ['RatecodeID','colour']"
   ]
  },
  {
   "cell_type": "markdown",
   "metadata": {
    "application/vnd.databricks.v1+cell": {
     "cellMetadata": {},
     "inputWidgets": {},
     "nuid": "14b09f50-f947-471f-84da-da5d83cddcaa",
     "showTitle": false,
     "title": ""
    }
   },
   "source": [
    "Create pipeline"
   ]
  },
  {
   "cell_type": "code",
   "execution_count": null,
   "metadata": {
    "application/vnd.databricks.v1+cell": {
     "cellMetadata": {
      "byteLimit": 2048000,
      "rowLimit": 10000
     },
     "inputWidgets": {},
     "nuid": "44775568-6966-466a-b45b-b6cd08c9ade0",
     "showTitle": false,
     "title": ""
    }
   },
   "outputs": [],
   "source": [
    "#Import OneHotEncoder, StringIndexer, VectorAssembler from pyspark.ml.feature\n",
    "from pyspark.ml.feature import OneHotEncoder, StringIndexer, VectorAssembler"
   ]
  },
  {
   "cell_type": "code",
   "execution_count": null,
   "metadata": {
    "application/vnd.databricks.v1+cell": {
     "cellMetadata": {
      "byteLimit": 2048000,
      "rowLimit": 10000
     },
     "inputWidgets": {},
     "nuid": "7ea02afb-35b1-4a5f-824a-963d19c06d08",
     "showTitle": false,
     "title": ""
    }
   },
   "outputs": [],
   "source": [
    "#Create an empty list called stages\n",
    "stages = []"
   ]
  },
  {
   "cell_type": "code",
   "execution_count": null,
   "metadata": {
    "application/vnd.databricks.v1+cell": {
     "cellMetadata": {
      "byteLimit": 2048000,
      "rowLimit": 10000
     },
     "inputWidgets": {},
     "nuid": "c02fa648-c17b-43f3-9785-3e40aaa0fece",
     "showTitle": false,
     "title": ""
    }
   },
   "outputs": [],
   "source": [
    "#Iterate through cat_cols and instantiate StringIndexer and OneHotEncoder for each column and them to stages\n",
    "for cat_col in cat_cols:\n",
    "    col_indexer = StringIndexer(inputCol=cat_col, outputCol=f\"{cat_col}_ind\")\n",
    "    col_encoder = OneHotEncoder(inputCols=[f\"{cat_col}_ind\"], outputCols=[f\"{cat_col}_ohe\"])\n",
    "    stages += [col_indexer, col_encoder]"
   ]
  },
  {
   "cell_type": "code",
   "execution_count": null,
   "metadata": {
    "application/vnd.databricks.v1+cell": {
     "cellMetadata": {
      "byteLimit": 2048000,
      "rowLimit": 10000
     },
     "inputWidgets": {},
     "nuid": "16bde224-13c6-4500-85b7-35c40a23e152",
     "showTitle": false,
     "title": ""
    }
   },
   "outputs": [],
   "source": [
    "#Create a variable called num_cols that contains the following values:\n",
    "num_cols = [ 'extra',\n",
    " 'mta_tax',\n",
    " 'tip_amount',\n",
    " 'tolls_amount',\n",
    " 'improvement_surcharge',\n",
    " 'total_amount',\n",
    " 'distance_km',\n",
    " 'speed',\n",
    " 'month_of_year',\n",
    " 'day_of_week',\n",
    " 'hour_of_day']"
   ]
  },
  {
   "cell_type": "code",
   "execution_count": null,
   "metadata": {
    "application/vnd.databricks.v1+cell": {
     "cellMetadata": {
      "byteLimit": 2048000,
      "rowLimit": 10000
     },
     "inputWidgets": {},
     "nuid": "fa51c6e2-9106-465b-ba40-06a63b45a511",
     "showTitle": false,
     "title": ""
    }
   },
   "outputs": [],
   "source": [
    "#Create a new list called cat_cols_ohe that will add the suffix _ohe to each element of cat_cols\n",
    "cat_cols_ohe = [f\"{cat_col}_ohe\" for cat_col in cat_cols]"
   ]
  },
  {
   "cell_type": "code",
   "execution_count": null,
   "metadata": {
    "application/vnd.databricks.v1+cell": {
     "cellMetadata": {
      "byteLimit": 2048000,
      "rowLimit": 10000
     },
     "inputWidgets": {},
     "nuid": "404f41eb-b034-4d32-943e-3b76ee16b26f",
     "showTitle": false,
     "title": ""
    }
   },
   "outputs": [],
   "source": [
    "#Instantiate a VectorAssembler with inputCols=cat_cols_ohe + num_cols, outputCol=\"features\". Save it into a variable called assembler\n",
    "assembler = VectorAssembler(inputCols=cat_cols_ohe + num_cols, outputCol=\"features\")"
   ]
  },
  {
   "cell_type": "code",
   "execution_count": null,
   "metadata": {
    "application/vnd.databricks.v1+cell": {
     "cellMetadata": {
      "byteLimit": 2048000,
      "rowLimit": 10000
     },
     "inputWidgets": {},
     "nuid": "688e7a32-940a-410e-827f-c1766bad2175",
     "showTitle": false,
     "title": ""
    }
   },
   "outputs": [],
   "source": [
    "#Add assembler to stages\n",
    "stages += [assembler]"
   ]
  },
  {
   "cell_type": "code",
   "execution_count": null,
   "metadata": {
    "application/vnd.databricks.v1+cell": {
     "cellMetadata": {
      "byteLimit": 2048000,
      "rowLimit": 10000
     },
     "inputWidgets": {},
     "nuid": "7c61c03b-6026-48c6-a385-f1bb941b320d",
     "showTitle": false,
     "title": ""
    }
   },
   "outputs": [],
   "source": [
    "#Import Pipeline from pyspark.ml\n",
    "from pyspark.ml import Pipeline"
   ]
  },
  {
   "cell_type": "code",
   "execution_count": null,
   "metadata": {
    "application/vnd.databricks.v1+cell": {
     "cellMetadata": {
      "byteLimit": 2048000,
      "rowLimit": 10000
     },
     "inputWidgets": {},
     "nuid": "667c1e43-0f8a-434b-9dce-45153f3b078e",
     "showTitle": false,
     "title": ""
    }
   },
   "outputs": [],
   "source": [
    "#Instantiate a Pipeline with stages. Save it into a variable called pipeline\n",
    "pipeline = Pipeline(stages=stages)"
   ]
  },
  {
   "cell_type": "code",
   "execution_count": null,
   "metadata": {
    "application/vnd.databricks.v1+cell": {
     "cellMetadata": {
      "byteLimit": 2048000,
      "rowLimit": 10000
     },
     "inputWidgets": {},
     "nuid": "372242b5-c405-47d9-b4b1-da2d67f3551b",
     "showTitle": false,
     "title": ""
    }
   },
   "outputs": [],
   "source": [
    "#Fit the pipeline with df_final\n",
    "pipeline_model = pipeline.fit(df_final)"
   ]
  },
  {
   "cell_type": "code",
   "execution_count": null,
   "metadata": {
    "application/vnd.databricks.v1+cell": {
     "cellMetadata": {
      "byteLimit": 2048000,
      "rowLimit": 10000
     },
     "inputWidgets": {},
     "nuid": "16e6fecc-aed3-4bec-9ab7-39d72f15e695",
     "showTitle": false,
     "title": ""
    }
   },
   "outputs": [],
   "source": [
    "#Apply the pipeline to df_final\n",
    "df_final = pipeline_model.transform(df_final)"
   ]
  },
  {
   "cell_type": "code",
   "execution_count": null,
   "metadata": {
    "application/vnd.databricks.v1+cell": {
     "cellMetadata": {
      "byteLimit": 2048000,
      "rowLimit": 10000
     },
     "inputWidgets": {},
     "nuid": "641301d0-33b7-4c3a-928a-fceceeb529bb",
     "showTitle": false,
     "title": ""
    }
   },
   "outputs": [
    {
     "name": "stdout",
     "output_type": "stream",
     "text": [
      "+----------+-----+-------+----------+------------+---------------------+------------+--------+------------------+------------------+------+-------------+-----------+-----------+--------------+--------------+----------+----------+--------------------+\n",
      "|RatecodeID|extra|mta_tax|tip_amount|tolls_amount|improvement_surcharge|total_amount|fileyear|       distance_km|             speed|colour|month_of_year|day_of_week|hour_of_day|RatecodeID_ind|RatecodeID_ohe|colour_ind|colour_ohe|            features|\n",
      "+----------+-----+-------+----------+------------+---------------------+------------+--------+------------------+------------------+------+-------------+-----------+-----------+--------------+--------------+----------+----------+--------------------+\n",
      "|       1.0|  0.5|    0.5|       0.0|         0.0|                  0.3|         8.3|    2015|2.5749504000000005| 23.52746558375635| green|            5|          6|          0|           0.0| (6,[0],[1.0])|       1.0| (1,[],[])|(18,[0,7,8,11,12,...|\n",
      "|       1.0|  0.5|    0.5|      1.36|         0.0|                  0.3|        8.16|    2015|1.2713817600000001|14.484096000000003| green|            5|          6|          0|           0.0| (6,[0],[1.0])|       1.0| (1,[],[])|(18,[0,7,8,9,11,1...|\n",
      "|       1.0|  0.5|    0.5|       0.0|         0.0|                  0.3|         7.3|    2015|          1.609344|17.140942011834323| green|            5|          6|          0|           0.0| (6,[0],[1.0])|       1.0| (1,[],[])|(18,[0,7,8,11,12,...|\n",
      "|       1.0|  0.5|    0.5|      4.46|         0.0|                  0.3|       26.76|    2015|           10.0584| 31.62466375545852| green|            5|          6|          0|           0.0| (6,[0],[1.0])|       1.0| (1,[],[])|(18,[0,7,8,9,11,1...|\n",
      "|       1.0|  0.5|    0.5|       0.0|         0.0|                  0.3|         6.3|    2015|        1.33575552|20.204705344537818| green|            5|          6|          0|           0.0| (6,[0],[1.0])|       1.0| (1,[],[])|(18,[0,7,8,11,12,...|\n",
      "+----------+-----+-------+----------+------------+---------------------+------------+--------+------------------+------------------+------+-------------+-----------+-----------+--------------+--------------+----------+----------+--------------------+\n",
      "only showing top 5 rows\n",
      "\n"
     ]
    }
   ],
   "source": [
    "df_final.show(5)"
   ]
  },
  {
   "cell_type": "code",
   "execution_count": null,
   "metadata": {
    "application/vnd.databricks.v1+cell": {
     "cellMetadata": {
      "byteLimit": 2048000,
      "rowLimit": 10000
     },
     "inputWidgets": {},
     "nuid": "16156503-e687-445e-ad89-84ab78efbe0c",
     "showTitle": false,
     "title": ""
    }
   },
   "outputs": [],
   "source": [
    "df_final = df_final.select(['features','month_of_year','fileyear','total_amount'])"
   ]
  },
  {
   "cell_type": "markdown",
   "metadata": {
    "application/vnd.databricks.v1+cell": {
     "cellMetadata": {},
     "inputWidgets": {},
     "nuid": "c4a7c983-4026-4939-9c87-f8c530a69188",
     "showTitle": false,
     "title": ""
    }
   },
   "source": [
    "Extract testing dataset in October/NovemberDecember 2022"
   ]
  },
  {
   "cell_type": "code",
   "execution_count": null,
   "metadata": {
    "application/vnd.databricks.v1+cell": {
     "cellMetadata": {
      "byteLimit": 2048000,
      "rowLimit": 10000
     },
     "inputWidgets": {},
     "nuid": "e6a268ed-a4ae-4c46-97b0-7181793b283c",
     "showTitle": false,
     "title": ""
    }
   },
   "outputs": [],
   "source": [
    "df_final.filter(F.col(\"month_of_year\").isin([10, 11, 12])&(F.col(\"fileyear\") == '2022')).drop(*[\"month_of_year\",\"fileyear\"]).write.parquet(\"/FileStore/testing_dataset.parquet\")"
   ]
  },
  {
   "cell_type": "markdown",
   "metadata": {
    "application/vnd.databricks.v1+cell": {
     "cellMetadata": {},
     "inputWidgets": {},
     "nuid": "7d9f0338-e480-4b67-803c-fe928c922cc2",
     "showTitle": false,
     "title": ""
    }
   },
   "source": [
    "Split dataset into trainning and validating set which excepts October/NovemberDecember 2022"
   ]
  },
  {
   "cell_type": "code",
   "execution_count": null,
   "metadata": {
    "application/vnd.databricks.v1+cell": {
     "cellMetadata": {
      "byteLimit": 2048000,
      "rowLimit": 10000
     },
     "inputWidgets": {},
     "nuid": "38a0fcdd-228e-4250-a918-2aa2299e6d31",
     "showTitle": false,
     "title": ""
    }
   },
   "outputs": [],
   "source": [
    "#Split training_dataset into training and validating sets with a 80-20 ratio. Set the seed to 8\n",
    "p3q2_dataset=df_final.filter(~(F.col(\"month_of_year\").isin([10, 11, 12])&(F.col(\"fileyear\") == '2022'))).drop(*[\"month_of_year\",\"fileyear\"]).write.parquet(\"/FileStore/p3q2_dataset.parquet\")"
   ]
  },
  {
   "cell_type": "code",
   "execution_count": null,
   "metadata": {
    "application/vnd.databricks.v1+cell": {
     "cellMetadata": {
      "byteLimit": 2048000,
      "rowLimit": 10000
     },
     "inputWidgets": {},
     "nuid": "e1474277-f193-431f-8e53-6e1daea875db",
     "showTitle": false,
     "title": ""
    }
   },
   "outputs": [],
   "source": [
    "#Split df_cleaned into training and testing sets with a 80-20 ratio. Set the seed to 8\n",
    "p3q2_dataset=spark.read.parquet(\"/FileStore/p3q2_dataset.parquet\")\n",
    "p3q2_dataset.cache()\n",
    "train_data, valid_data = p3q2_dataset.randomSplit([0.8, 0.2], seed=8)"
   ]
  },
  {
   "cell_type": "code",
   "execution_count": null,
   "metadata": {
    "application/vnd.databricks.v1+cell": {
     "cellMetadata": {
      "byteLimit": 2048000,
      "rowLimit": 10000
     },
     "inputWidgets": {},
     "nuid": "677cf415-dbad-4574-b583-b2329751456f",
     "showTitle": false,
     "title": ""
    }
   },
   "outputs": [],
   "source": [
    "#Saving training and validating datasets\n",
    "valid_data.write.parquet(\"/FileStore/valid_data.parquet\")\n",
    "train_data.write.parquet(\"/FileStore/train_data.parquet\")"
   ]
  },
  {
   "cell_type": "code",
   "execution_count": null,
   "metadata": {
    "application/vnd.databricks.v1+cell": {
     "cellMetadata": {
      "byteLimit": 2048000,
      "rowLimit": 10000
     },
     "inputWidgets": {},
     "nuid": "f005ab21-fc78-4f53-b252-852713e0ad7b",
     "showTitle": false,
     "title": ""
    }
   },
   "outputs": [],
   "source": [
    "#Loading training, validating and testing datasets\n",
    "testing_dataset=spark.read.parquet(\"/FileStore/testing_dataset.parquet\")\n",
    "validating_dataset=spark.read.parquet(\"/FileStore/valid_data.parquet\")\n",
    "training_dataset=spark.read.parquet(\"/FileStore/train_data.parquet\")"
   ]
  },
  {
   "cell_type": "code",
   "execution_count": null,
   "metadata": {
    "application/vnd.databricks.v1+cell": {
     "cellMetadata": {
      "byteLimit": 2048000,
      "rowLimit": 10000
     },
     "inputWidgets": {},
     "nuid": "19e36209-f2e1-4c12-bfda-689a251098ab",
     "showTitle": false,
     "title": ""
    }
   },
   "outputs": [],
   "source": [
    "#Remove ouliers that greater than 300 dollars in validating dataset.\n",
    "validating_dataset.filter(F.col(\"total_amount\")<=300).write.parquet(\"/FileStore/valid_data_cleaned.parquet\",mode='overwrite')"
   ]
  },
  {
   "cell_type": "code",
   "execution_count": null,
   "metadata": {
    "application/vnd.databricks.v1+cell": {
     "cellMetadata": {
      "byteLimit": 2048000,
      "rowLimit": 10000
     },
     "inputWidgets": {},
     "nuid": "81ebb566-a2ff-450c-b149-5f5c7ab1caee",
     "showTitle": false,
     "title": ""
    }
   },
   "outputs": [],
   "source": [
    "#Remove ouliers that greater than 300 dollars in training dataset.\n",
    "training_dataset.filter(F.col(\"total_amount\")<=300).write.parquet(\"/FileStore/train_data_cleaned.parquet\",mode='overwrite')"
   ]
  },
  {
   "cell_type": "markdown",
   "metadata": {
    "application/vnd.databricks.v1+cell": {
     "cellMetadata": {},
     "inputWidgets": {},
     "nuid": "c410fd9b-c103-4078-b92d-2145a74e7652",
     "showTitle": false,
     "title": ""
    }
   },
   "source": [
    "### Baseline model-Calculate its RMSE."
   ]
  },
  {
   "cell_type": "code",
   "execution_count": null,
   "metadata": {
    "application/vnd.databricks.v1+cell": {
     "cellMetadata": {
      "byteLimit": 2048000,
      "rowLimit": 10000
     },
     "inputWidgets": {},
     "nuid": "c7682370-80f3-4600-9398-e3284f4fb864",
     "showTitle": false,
     "title": ""
    }
   },
   "outputs": [],
   "source": [
    "from pyspark.ml.evaluation import RegressionEvaluator"
   ]
  },
  {
   "cell_type": "code",
   "execution_count": null,
   "metadata": {
    "application/vnd.databricks.v1+cell": {
     "cellMetadata": {},
     "inputWidgets": {},
     "nuid": "4e5c4a4c-2d02-46fa-95d5-b3b267dd0b58",
     "showTitle": false,
     "title": ""
    }
   },
   "outputs": [],
   "source": [
    "p3q1_dataset=spark.read.parquet(\"/FileStore/p3q1_dataset.parquet\")"
   ]
  },
  {
   "cell_type": "code",
   "execution_count": null,
   "metadata": {
    "application/vnd.databricks.v1+cell": {
     "cellMetadata": {
      "byteLimit": 2048000,
      "rowLimit": 10000
     },
     "inputWidgets": {},
     "nuid": "351fff44-9f0f-4c0b-9917-0cc695b02810",
     "showTitle": false,
     "title": ""
    }
   },
   "outputs": [
    {
     "name": "stdout",
     "output_type": "stream",
     "text": [
      "10.954374424777152\n"
     ]
    }
   ],
   "source": [
    "RE= RegressionEvaluator(labelCol=\"total_amount\", predictionCol=\"Average_amount_paid_per_trip\", metricName=\"rmse\")\n",
    "rmse=RE.evaluate(p3q1_dataset)\n",
    "print(rmse)"
   ]
  },
  {
   "cell_type": "markdown",
   "metadata": {
    "application/vnd.databricks.v1+cell": {
     "cellMetadata": {},
     "inputWidgets": {},
     "nuid": "1e4a365d-ef87-492c-957c-25ae4ab73142",
     "showTitle": false,
     "title": ""
    }
   },
   "source": [
    "### Models"
   ]
  },
  {
   "cell_type": "markdown",
   "metadata": {
    "application/vnd.databricks.v1+cell": {
     "cellMetadata": {},
     "inputWidgets": {},
     "nuid": "221f6079-51cd-4973-ac6f-0e00f2dea2f7",
     "showTitle": false,
     "title": ""
    }
   },
   "source": [
    "Sampling training and validating data"
   ]
  },
  {
   "cell_type": "code",
   "execution_count": null,
   "metadata": {
    "application/vnd.databricks.v1+cell": {
     "cellMetadata": {
      "byteLimit": 2048000,
      "rowLimit": 10000
     },
     "inputWidgets": {},
     "nuid": "a4b25f4a-d43e-427b-b886-84d45caa1427",
     "showTitle": false,
     "title": ""
    }
   },
   "outputs": [],
   "source": [
    "#Loading training and validating dataset that have been removed outliers\n",
    "validating_dataset=spark.read.parquet(\"/FileStore/valid_data_cleaned.parquet\")\n"
   ]
  },
  {
   "cell_type": "code",
   "execution_count": null,
   "metadata": {
    "application/vnd.databricks.v1+cell": {
     "cellMetadata": {},
     "inputWidgets": {},
     "nuid": "ca4be714-9a95-4bbf-aa86-e601fd306664",
     "showTitle": false,
     "title": ""
    }
   },
   "outputs": [],
   "source": [
    "training_dataset=spark.read.parquet(\"/FileStore/train_data_cleaned.parquet\")"
   ]
  },
  {
   "cell_type": "code",
   "execution_count": null,
   "metadata": {
    "application/vnd.databricks.v1+cell": {
     "cellMetadata": {
      "byteLimit": 2048000,
      "rowLimit": 10000
     },
     "inputWidgets": {},
     "nuid": "19bb9084-5fa7-4ad7-bb84-3f428bc3e6ff",
     "showTitle": false,
     "title": ""
    }
   },
   "outputs": [],
   "source": [
    "training_dataset.sample(fraction=0.1, seed=8).write.parquet(\"/FileStore/train_data_sampling.parquet\")"
   ]
  },
  {
   "cell_type": "code",
   "execution_count": null,
   "metadata": {
    "application/vnd.databricks.v1+cell": {
     "cellMetadata": {
      "byteLimit": 2048000,
      "rowLimit": 10000
     },
     "inputWidgets": {},
     "nuid": "8dada174-597e-4042-ae39-85d6b23a2ccc",
     "showTitle": false,
     "title": ""
    }
   },
   "outputs": [],
   "source": [
    "training_dataset_sample=spark.read.parquet(\"/FileStore/train_data_sampling.parquet\")"
   ]
  },
  {
   "cell_type": "code",
   "execution_count": null,
   "metadata": {
    "application/vnd.databricks.v1+cell": {
     "cellMetadata": {
      "byteLimit": 2048000,
      "rowLimit": 10000
     },
     "inputWidgets": {},
     "nuid": "41fa1800-513e-4f95-854a-281dc60edf3f",
     "showTitle": false,
     "title": ""
    }
   },
   "outputs": [],
   "source": [
    "validating_dataset_sample=validating_dataset.sample(fraction=0.1, seed=8)"
   ]
  },
  {
   "cell_type": "markdown",
   "metadata": {
    "application/vnd.databricks.v1+cell": {
     "cellMetadata": {},
     "inputWidgets": {},
     "nuid": "f8121e84-10a2-456a-b582-76354bc2ccd9",
     "showTitle": false,
     "title": ""
    }
   },
   "source": [
    "#### Decision Tree"
   ]
  },
  {
   "cell_type": "code",
   "execution_count": null,
   "metadata": {},
   "outputs": [],
   "source": [
    "from pyspark.ml.regression import DecisionTreeRegressor"
   ]
  },
  {
   "cell_type": "code",
   "execution_count": null,
   "metadata": {},
   "outputs": [],
   "source": [
    "#Instantiate a DecisionTree and provide the feature and target columns. Save it into a variable called Xg\n",
    "DT = DecisionTreeRegressor(featuresCol='features', labelCol='total_amount')"
   ]
  },
  {
   "cell_type": "code",
   "execution_count": null,
   "metadata": {},
   "outputs": [],
   "source": [
    "DT_model = DT.fit(training_dataset_sample)"
   ]
  },
  {
   "cell_type": "code",
   "execution_count": null,
   "metadata": {},
   "outputs": [],
   "source": [
    "#Use the trained DecisionTree to make prediction on the training and validating set.\n",
    "train_preds = DT_model.transform(training_dataset_sample)\n",
    "valid_preds = DT_model.transform(validating_dataset_sample)"
   ]
  },
  {
   "cell_type": "code",
   "execution_count": null,
   "metadata": {
    "application/vnd.databricks.v1+cell": {
     "cellMetadata": {
      "byteLimit": 2048000,
      "rowLimit": 10000
     },
     "inputWidgets": {},
     "nuid": "75934e2f-ba9e-4ec7-9dcb-06c2d4705bea",
     "showTitle": false,
     "title": ""
    }
   },
   "outputs": [],
   "source": [
    "from pyspark.ml.evaluation import RegressionEvaluator"
   ]
  },
  {
   "cell_type": "code",
   "execution_count": null,
   "metadata": {
    "application/vnd.databricks.v1+cell": {
     "cellMetadata": {
      "byteLimit": 2048000,
      "rowLimit": 10000
     },
     "inputWidgets": {},
     "nuid": "67b04708-b0c5-409e-90c1-9b98d6650dde",
     "showTitle": false,
     "title": ""
    }
   },
   "outputs": [],
   "source": [
    "evaluator = RegressionEvaluator(labelCol='total_amount', predictionCol=\"prediction\",metricName='rmse')"
   ]
  },
  {
   "cell_type": "code",
   "execution_count": null,
   "metadata": {
    "application/vnd.databricks.v1+cell": {
     "cellMetadata": {
      "byteLimit": 2048000,
      "rowLimit": 10000
     },
     "inputWidgets": {},
     "nuid": "b6b3afe9-cd85-4189-a0d3-fe6da664f7c2",
     "showTitle": false,
     "title": ""
    }
   },
   "outputs": [
    {
     "name": "stdout",
     "output_type": "stream",
     "text": [
      "[RMSE] train:2.550293410128402 - validate: 2.549486052314351\n"
     ]
    }
   ],
   "source": [
    "#Print the RMSE scores for the predictions on the training and validatin sets \n",
    "print(f\"[RMSE] train:{evaluator.evaluate(train_preds)} - validate: {evaluator.evaluate(valid_preds)}\")"
   ]
  },
  {
   "cell_type": "markdown",
   "metadata": {
    "application/vnd.databricks.v1+cell": {
     "cellMetadata": {},
     "inputWidgets": {},
     "nuid": "937f9efe-6e99-4125-b8d3-ff61fb60486c",
     "showTitle": false,
     "title": ""
    }
   },
   "source": [
    "#### Random Forest"
   ]
  },
  {
   "cell_type": "code",
   "execution_count": null,
   "metadata": {
    "application/vnd.databricks.v1+cell": {
     "cellMetadata": {
      "byteLimit": 2048000,
      "rowLimit": 10000
     },
     "inputWidgets": {},
     "nuid": "a788590f-8ef8-45ad-93b3-ffa756be458a",
     "showTitle": false,
     "title": ""
    }
   },
   "outputs": [],
   "source": [
    "#Import RandomForestRegressor from pyspark.ml.classification\n",
    "from pyspark.ml.regression import RandomForestRegressor"
   ]
  },
  {
   "cell_type": "code",
   "execution_count": null,
   "metadata": {
    "application/vnd.databricks.v1+cell": {
     "cellMetadata": {
      "byteLimit": 2048000,
      "rowLimit": 10000
     },
     "inputWidgets": {},
     "nuid": "2dc4d0b2-7c39-42bf-9b1c-d837c0f55600",
     "showTitle": false,
     "title": ""
    }
   },
   "outputs": [],
   "source": [
    "#Instantiate a RandomForest and provide the feature and target columns. Save it into a variable called rf\n",
    "rf = RandomForestRegressor(featuresCol='features', labelCol='total_amount')"
   ]
  },
  {
   "cell_type": "code",
   "execution_count": null,
   "metadata": {
    "application/vnd.databricks.v1+cell": {
     "cellMetadata": {
      "byteLimit": 2048000,
      "rowLimit": 10000
     },
     "inputWidgets": {},
     "nuid": "9920f257-bcb7-436d-b606-e6d73d66dd39",
     "showTitle": false,
     "title": ""
    }
   },
   "outputs": [],
   "source": [
    "#Fit the RandomForest with the training set\n",
    "rf_model = rf.fit(training_dataset_sample)"
   ]
  },
  {
   "cell_type": "code",
   "execution_count": null,
   "metadata": {
    "application/vnd.databricks.v1+cell": {
     "cellMetadata": {
      "byteLimit": 2048000,
      "rowLimit": 10000
     },
     "inputWidgets": {},
     "nuid": "3b3268f5-9f5f-4542-aba7-14b54aeab889",
     "showTitle": false,
     "title": ""
    }
   },
   "outputs": [],
   "source": [
    "#Use the trained RandomForest to make prediction on the training set. Save the results in a variable called train_preds\n",
    "train_preds = rf_model.transform(training_dataset_sample)"
   ]
  },
  {
   "cell_type": "code",
   "execution_count": null,
   "metadata": {
    "application/vnd.databricks.v1+cell": {
     "cellMetadata": {
      "byteLimit": 2048000,
      "rowLimit": 10000
     },
     "inputWidgets": {},
     "nuid": "07b5ac87-fb08-406d-b4d3-dc2d0d213fc4",
     "showTitle": false,
     "title": ""
    }
   },
   "outputs": [],
   "source": [
    "valid_preds = rf_model.transform(validating_dataset_sample)"
   ]
  },
  {
   "cell_type": "code",
   "execution_count": null,
   "metadata": {
    "application/vnd.databricks.v1+cell": {
     "cellMetadata": {
      "byteLimit": 2048000,
      "rowLimit": 10000
     },
     "inputWidgets": {},
     "nuid": "483b95f6-5bc4-483b-b5cf-5a87db939388",
     "showTitle": false,
     "title": ""
    }
   },
   "outputs": [
    {
     "name": "stdout",
     "output_type": "stream",
     "text": [
      "[RMSE] train:2.4167265280028802 - validate: 2.4195401479143057\n"
     ]
    }
   ],
   "source": [
    "#Print the RMSE scores for the predictions on the training and validating sets\n",
    "print(f\"[RMSE] train:{evaluator.evaluate(train_preds)} - validate: {evaluator.evaluate(valid_preds)}\")"
   ]
  },
  {
   "cell_type": "markdown",
   "metadata": {
    "application/vnd.databricks.v1+cell": {
     "cellMetadata": {},
     "inputWidgets": {},
     "nuid": "9e3df57d-c96e-4e7e-a656-dc6b62d60566",
     "showTitle": false,
     "title": ""
    }
   },
   "source": [
    "### Access the best model"
   ]
  },
  {
   "cell_type": "code",
   "execution_count": null,
   "metadata": {
    "application/vnd.databricks.v1+cell": {
     "cellMetadata": {
      "byteLimit": 2048000,
      "rowLimit": 10000
     },
     "inputWidgets": {},
     "nuid": "79f91115-3ecc-42d8-8715-534fb93da7ad",
     "showTitle": false,
     "title": ""
    }
   },
   "outputs": [],
   "source": [
    "testing_dataset=spark.read.parquet(\"/FileStore/testing_dataset.parquet\")\n",
    "test_preds = rf_model.transform(testing_dataset)"
   ]
  },
  {
   "cell_type": "code",
   "execution_count": null,
   "metadata": {
    "application/vnd.databricks.v1+cell": {
     "cellMetadata": {
      "byteLimit": 2048000,
      "rowLimit": 10000
     },
     "inputWidgets": {},
     "nuid": "36faca58-6502-4977-bfd6-8619ab35017f",
     "showTitle": false,
     "title": ""
    }
   },
   "outputs": [
    {
     "name": "stdout",
     "output_type": "stream",
     "text": [
      "[RMSE] test of random forest model: 4.744471629624487\n"
     ]
    }
   ],
   "source": [
    "print(f\"[RMSE] test of random forest model: {evaluator.evaluate(test_preds)}\")"
   ]
  }
 ],
 "metadata": {
  "application/vnd.databricks.v1+notebook": {
   "dashboards": [],
   "language": "python",
   "notebookMetadata": {
    "pythonIndentUnit": 4
   },
   "notebookName": "BDE_AS2",
   "widgets": {}
  },
  "language_info": {
   "name": "python"
  }
 },
 "nbformat": 4,
 "nbformat_minor": 0
}
